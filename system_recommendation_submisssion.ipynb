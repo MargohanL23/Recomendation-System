{
  "nbformat": 4,
  "nbformat_minor": 0,
  "metadata": {
    "colab": {
      "provenance": []
    },
    "kernelspec": {
      "name": "python3",
      "display_name": "Python 3"
    },
    "language_info": {
      "name": "python"
    }
  },
  "cells": [
    {
      "cell_type": "markdown",
      "source": [
        "# DATA UNDERSTANDING\n",
        "\n",
        "Pada tahap ini akan memahami struktur dan isi dari dataset **Online Retail** yang bersumber dari [UCI Machine Learning Repository](https://archive.ics.uci.edu/ml/datasets/Online+Retail).\n",
        "\n",
        "Dataset ini berisi transaksi e-commerce dari perusahaan retail Inggris antara tahun 2010 dan 2011. Informasi yang tersedia mencakup transaksi penjualan, deskripsi produk, jumlah pembelian, identitas pelanggan, dan negara asal.\n",
        "\n",
        "Berikut adalah fitur-fitur pada dataset:\n",
        "\n",
        "- **InvoiceNo**: Nomor faktur. Jika diawali dengan huruf 'C' maka itu adalah pembatalan.\n",
        "- **StockCode**: Kode unik untuk setiap produk.\n",
        "- **Description**: Deskripsi atau nama produk.\n",
        "- **Quantity**: Jumlah produk yang dibeli.\n",
        "- **InvoiceDate**: Tanggal dan waktu transaksi.\n",
        "- **UnitPrice**: Harga per unit produk (dalam Pound Sterling).\n",
        "- **CustomerID**: Nomor unik pelanggan.\n",
        "- **Country**: Negara tempat pelanggan berada.\n"
      ],
      "metadata": {
        "id": "qaH_qG4KKDL8"
      }
    },
    {
      "cell_type": "code",
      "source": [
        "import pandas as pd\n",
        "import numpy as np\n",
        "from sklearn.feature_extraction.text import TfidfVectorizer\n",
        "from sklearn.preprocessing import LabelEncoder\n",
        "from sklearn.model_selection import train_test_split\n",
        "from sklearn.metrics.pairwise import cosine_similarity\n",
        "import matplotlib.pyplot as plt\n",
        "import seaborn as sns"
      ],
      "metadata": {
        "id": "jYeYIHY62bbp"
      },
      "execution_count": 1,
      "outputs": []
    },
    {
      "cell_type": "code",
      "source": [
        "from google.colab import drive\n",
        "drive.mount('/content/drive')"
      ],
      "metadata": {
        "colab": {
          "base_uri": "https://localhost:8080/"
        },
        "id": "thofW7z-KKcT",
        "outputId": "4d7b829a-db0a-4437-e04a-8e75bbed9e99"
      },
      "execution_count": 2,
      "outputs": [
        {
          "output_type": "stream",
          "name": "stdout",
          "text": [
            "Drive already mounted at /content/drive; to attempt to forcibly remount, call drive.mount(\"/content/drive\", force_remount=True).\n"
          ]
        }
      ]
    },
    {
      "cell_type": "code",
      "source": [
        "# Memuat dataset\n",
        "df = pd.read_csv('/content/drive/MyDrive/sistem_rekomendasi/Online Retail - Online Retail.csv')\n",
        "\n",
        "# Menampilkan 5 baris pertama dataset\n",
        "df.head()"
      ],
      "metadata": {
        "colab": {
          "base_uri": "https://localhost:8080/",
          "height": 293
        },
        "id": "-avGW9U52l8B",
        "outputId": "9864b295-15c2-4b16-8b9c-3a4a45d570bf"
      },
      "execution_count": 3,
      "outputs": [
        {
          "output_type": "execute_result",
          "data": {
            "text/plain": [
              "  InvoiceNo StockCode                          Description  Quantity  \\\n",
              "0    536365    85123A   WHITE HANGING HEART T-LIGHT HOLDER         6   \n",
              "1    536365     71053                  WHITE METAL LANTERN         6   \n",
              "2    536365    84406B       CREAM CUPID HEARTS COAT HANGER         8   \n",
              "3    536365    84029G  KNITTED UNION FLAG HOT WATER BOTTLE         6   \n",
              "4    536365    84029E       RED WOOLLY HOTTIE WHITE HEART.         6   \n",
              "\n",
              "    InvoiceDate  UnitPrice  CustomerID         Country  \n",
              "0  12/1/10 8:26       2.55     17850.0  United Kingdom  \n",
              "1  12/1/10 8:26       3.39     17850.0  United Kingdom  \n",
              "2  12/1/10 8:26       2.75     17850.0  United Kingdom  \n",
              "3  12/1/10 8:26       3.39     17850.0  United Kingdom  \n",
              "4  12/1/10 8:26       3.39     17850.0  United Kingdom  "
            ],
            "text/html": [
              "\n",
              "  <div id=\"df-f2b1864d-7b50-452b-a941-9bacd77c27dc\" class=\"colab-df-container\">\n",
              "    <div>\n",
              "<style scoped>\n",
              "    .dataframe tbody tr th:only-of-type {\n",
              "        vertical-align: middle;\n",
              "    }\n",
              "\n",
              "    .dataframe tbody tr th {\n",
              "        vertical-align: top;\n",
              "    }\n",
              "\n",
              "    .dataframe thead th {\n",
              "        text-align: right;\n",
              "    }\n",
              "</style>\n",
              "<table border=\"1\" class=\"dataframe\">\n",
              "  <thead>\n",
              "    <tr style=\"text-align: right;\">\n",
              "      <th></th>\n",
              "      <th>InvoiceNo</th>\n",
              "      <th>StockCode</th>\n",
              "      <th>Description</th>\n",
              "      <th>Quantity</th>\n",
              "      <th>InvoiceDate</th>\n",
              "      <th>UnitPrice</th>\n",
              "      <th>CustomerID</th>\n",
              "      <th>Country</th>\n",
              "    </tr>\n",
              "  </thead>\n",
              "  <tbody>\n",
              "    <tr>\n",
              "      <th>0</th>\n",
              "      <td>536365</td>\n",
              "      <td>85123A</td>\n",
              "      <td>WHITE HANGING HEART T-LIGHT HOLDER</td>\n",
              "      <td>6</td>\n",
              "      <td>12/1/10 8:26</td>\n",
              "      <td>2.55</td>\n",
              "      <td>17850.0</td>\n",
              "      <td>United Kingdom</td>\n",
              "    </tr>\n",
              "    <tr>\n",
              "      <th>1</th>\n",
              "      <td>536365</td>\n",
              "      <td>71053</td>\n",
              "      <td>WHITE METAL LANTERN</td>\n",
              "      <td>6</td>\n",
              "      <td>12/1/10 8:26</td>\n",
              "      <td>3.39</td>\n",
              "      <td>17850.0</td>\n",
              "      <td>United Kingdom</td>\n",
              "    </tr>\n",
              "    <tr>\n",
              "      <th>2</th>\n",
              "      <td>536365</td>\n",
              "      <td>84406B</td>\n",
              "      <td>CREAM CUPID HEARTS COAT HANGER</td>\n",
              "      <td>8</td>\n",
              "      <td>12/1/10 8:26</td>\n",
              "      <td>2.75</td>\n",
              "      <td>17850.0</td>\n",
              "      <td>United Kingdom</td>\n",
              "    </tr>\n",
              "    <tr>\n",
              "      <th>3</th>\n",
              "      <td>536365</td>\n",
              "      <td>84029G</td>\n",
              "      <td>KNITTED UNION FLAG HOT WATER BOTTLE</td>\n",
              "      <td>6</td>\n",
              "      <td>12/1/10 8:26</td>\n",
              "      <td>3.39</td>\n",
              "      <td>17850.0</td>\n",
              "      <td>United Kingdom</td>\n",
              "    </tr>\n",
              "    <tr>\n",
              "      <th>4</th>\n",
              "      <td>536365</td>\n",
              "      <td>84029E</td>\n",
              "      <td>RED WOOLLY HOTTIE WHITE HEART.</td>\n",
              "      <td>6</td>\n",
              "      <td>12/1/10 8:26</td>\n",
              "      <td>3.39</td>\n",
              "      <td>17850.0</td>\n",
              "      <td>United Kingdom</td>\n",
              "    </tr>\n",
              "  </tbody>\n",
              "</table>\n",
              "</div>\n",
              "    <div class=\"colab-df-buttons\">\n",
              "\n",
              "  <div class=\"colab-df-container\">\n",
              "    <button class=\"colab-df-convert\" onclick=\"convertToInteractive('df-f2b1864d-7b50-452b-a941-9bacd77c27dc')\"\n",
              "            title=\"Convert this dataframe to an interactive table.\"\n",
              "            style=\"display:none;\">\n",
              "\n",
              "  <svg xmlns=\"http://www.w3.org/2000/svg\" height=\"24px\" viewBox=\"0 -960 960 960\">\n",
              "    <path d=\"M120-120v-720h720v720H120Zm60-500h600v-160H180v160Zm220 220h160v-160H400v160Zm0 220h160v-160H400v160ZM180-400h160v-160H180v160Zm440 0h160v-160H620v160ZM180-180h160v-160H180v160Zm440 0h160v-160H620v160Z\"/>\n",
              "  </svg>\n",
              "    </button>\n",
              "\n",
              "  <style>\n",
              "    .colab-df-container {\n",
              "      display:flex;\n",
              "      gap: 12px;\n",
              "    }\n",
              "\n",
              "    .colab-df-convert {\n",
              "      background-color: #E8F0FE;\n",
              "      border: none;\n",
              "      border-radius: 50%;\n",
              "      cursor: pointer;\n",
              "      display: none;\n",
              "      fill: #1967D2;\n",
              "      height: 32px;\n",
              "      padding: 0 0 0 0;\n",
              "      width: 32px;\n",
              "    }\n",
              "\n",
              "    .colab-df-convert:hover {\n",
              "      background-color: #E2EBFA;\n",
              "      box-shadow: 0px 1px 2px rgba(60, 64, 67, 0.3), 0px 1px 3px 1px rgba(60, 64, 67, 0.15);\n",
              "      fill: #174EA6;\n",
              "    }\n",
              "\n",
              "    .colab-df-buttons div {\n",
              "      margin-bottom: 4px;\n",
              "    }\n",
              "\n",
              "    [theme=dark] .colab-df-convert {\n",
              "      background-color: #3B4455;\n",
              "      fill: #D2E3FC;\n",
              "    }\n",
              "\n",
              "    [theme=dark] .colab-df-convert:hover {\n",
              "      background-color: #434B5C;\n",
              "      box-shadow: 0px 1px 3px 1px rgba(0, 0, 0, 0.15);\n",
              "      filter: drop-shadow(0px 1px 2px rgba(0, 0, 0, 0.3));\n",
              "      fill: #FFFFFF;\n",
              "    }\n",
              "  </style>\n",
              "\n",
              "    <script>\n",
              "      const buttonEl =\n",
              "        document.querySelector('#df-f2b1864d-7b50-452b-a941-9bacd77c27dc button.colab-df-convert');\n",
              "      buttonEl.style.display =\n",
              "        google.colab.kernel.accessAllowed ? 'block' : 'none';\n",
              "\n",
              "      async function convertToInteractive(key) {\n",
              "        const element = document.querySelector('#df-f2b1864d-7b50-452b-a941-9bacd77c27dc');\n",
              "        const dataTable =\n",
              "          await google.colab.kernel.invokeFunction('convertToInteractive',\n",
              "                                                    [key], {});\n",
              "        if (!dataTable) return;\n",
              "\n",
              "        const docLinkHtml = 'Like what you see? Visit the ' +\n",
              "          '<a target=\"_blank\" href=https://colab.research.google.com/notebooks/data_table.ipynb>data table notebook</a>'\n",
              "          + ' to learn more about interactive tables.';\n",
              "        element.innerHTML = '';\n",
              "        dataTable['output_type'] = 'display_data';\n",
              "        await google.colab.output.renderOutput(dataTable, element);\n",
              "        const docLink = document.createElement('div');\n",
              "        docLink.innerHTML = docLinkHtml;\n",
              "        element.appendChild(docLink);\n",
              "      }\n",
              "    </script>\n",
              "  </div>\n",
              "\n",
              "\n",
              "    <div id=\"df-aa90e373-1a18-41f5-b77a-cebc574aaf13\">\n",
              "      <button class=\"colab-df-quickchart\" onclick=\"quickchart('df-aa90e373-1a18-41f5-b77a-cebc574aaf13')\"\n",
              "                title=\"Suggest charts\"\n",
              "                style=\"display:none;\">\n",
              "\n",
              "<svg xmlns=\"http://www.w3.org/2000/svg\" height=\"24px\"viewBox=\"0 0 24 24\"\n",
              "     width=\"24px\">\n",
              "    <g>\n",
              "        <path d=\"M19 3H5c-1.1 0-2 .9-2 2v14c0 1.1.9 2 2 2h14c1.1 0 2-.9 2-2V5c0-1.1-.9-2-2-2zM9 17H7v-7h2v7zm4 0h-2V7h2v10zm4 0h-2v-4h2v4z\"/>\n",
              "    </g>\n",
              "</svg>\n",
              "      </button>\n",
              "\n",
              "<style>\n",
              "  .colab-df-quickchart {\n",
              "      --bg-color: #E8F0FE;\n",
              "      --fill-color: #1967D2;\n",
              "      --hover-bg-color: #E2EBFA;\n",
              "      --hover-fill-color: #174EA6;\n",
              "      --disabled-fill-color: #AAA;\n",
              "      --disabled-bg-color: #DDD;\n",
              "  }\n",
              "\n",
              "  [theme=dark] .colab-df-quickchart {\n",
              "      --bg-color: #3B4455;\n",
              "      --fill-color: #D2E3FC;\n",
              "      --hover-bg-color: #434B5C;\n",
              "      --hover-fill-color: #FFFFFF;\n",
              "      --disabled-bg-color: #3B4455;\n",
              "      --disabled-fill-color: #666;\n",
              "  }\n",
              "\n",
              "  .colab-df-quickchart {\n",
              "    background-color: var(--bg-color);\n",
              "    border: none;\n",
              "    border-radius: 50%;\n",
              "    cursor: pointer;\n",
              "    display: none;\n",
              "    fill: var(--fill-color);\n",
              "    height: 32px;\n",
              "    padding: 0;\n",
              "    width: 32px;\n",
              "  }\n",
              "\n",
              "  .colab-df-quickchart:hover {\n",
              "    background-color: var(--hover-bg-color);\n",
              "    box-shadow: 0 1px 2px rgba(60, 64, 67, 0.3), 0 1px 3px 1px rgba(60, 64, 67, 0.15);\n",
              "    fill: var(--button-hover-fill-color);\n",
              "  }\n",
              "\n",
              "  .colab-df-quickchart-complete:disabled,\n",
              "  .colab-df-quickchart-complete:disabled:hover {\n",
              "    background-color: var(--disabled-bg-color);\n",
              "    fill: var(--disabled-fill-color);\n",
              "    box-shadow: none;\n",
              "  }\n",
              "\n",
              "  .colab-df-spinner {\n",
              "    border: 2px solid var(--fill-color);\n",
              "    border-color: transparent;\n",
              "    border-bottom-color: var(--fill-color);\n",
              "    animation:\n",
              "      spin 1s steps(1) infinite;\n",
              "  }\n",
              "\n",
              "  @keyframes spin {\n",
              "    0% {\n",
              "      border-color: transparent;\n",
              "      border-bottom-color: var(--fill-color);\n",
              "      border-left-color: var(--fill-color);\n",
              "    }\n",
              "    20% {\n",
              "      border-color: transparent;\n",
              "      border-left-color: var(--fill-color);\n",
              "      border-top-color: var(--fill-color);\n",
              "    }\n",
              "    30% {\n",
              "      border-color: transparent;\n",
              "      border-left-color: var(--fill-color);\n",
              "      border-top-color: var(--fill-color);\n",
              "      border-right-color: var(--fill-color);\n",
              "    }\n",
              "    40% {\n",
              "      border-color: transparent;\n",
              "      border-right-color: var(--fill-color);\n",
              "      border-top-color: var(--fill-color);\n",
              "    }\n",
              "    60% {\n",
              "      border-color: transparent;\n",
              "      border-right-color: var(--fill-color);\n",
              "    }\n",
              "    80% {\n",
              "      border-color: transparent;\n",
              "      border-right-color: var(--fill-color);\n",
              "      border-bottom-color: var(--fill-color);\n",
              "    }\n",
              "    90% {\n",
              "      border-color: transparent;\n",
              "      border-bottom-color: var(--fill-color);\n",
              "    }\n",
              "  }\n",
              "</style>\n",
              "\n",
              "      <script>\n",
              "        async function quickchart(key) {\n",
              "          const quickchartButtonEl =\n",
              "            document.querySelector('#' + key + ' button');\n",
              "          quickchartButtonEl.disabled = true;  // To prevent multiple clicks.\n",
              "          quickchartButtonEl.classList.add('colab-df-spinner');\n",
              "          try {\n",
              "            const charts = await google.colab.kernel.invokeFunction(\n",
              "                'suggestCharts', [key], {});\n",
              "          } catch (error) {\n",
              "            console.error('Error during call to suggestCharts:', error);\n",
              "          }\n",
              "          quickchartButtonEl.classList.remove('colab-df-spinner');\n",
              "          quickchartButtonEl.classList.add('colab-df-quickchart-complete');\n",
              "        }\n",
              "        (() => {\n",
              "          let quickchartButtonEl =\n",
              "            document.querySelector('#df-aa90e373-1a18-41f5-b77a-cebc574aaf13 button');\n",
              "          quickchartButtonEl.style.display =\n",
              "            google.colab.kernel.accessAllowed ? 'block' : 'none';\n",
              "        })();\n",
              "      </script>\n",
              "    </div>\n",
              "\n",
              "    </div>\n",
              "  </div>\n"
            ],
            "application/vnd.google.colaboratory.intrinsic+json": {
              "type": "dataframe",
              "variable_name": "df"
            }
          },
          "metadata": {},
          "execution_count": 3
        }
      ]
    },
    {
      "cell_type": "code",
      "source": [
        "# Informasi umum dataset\n",
        "df.info()"
      ],
      "metadata": {
        "colab": {
          "base_uri": "https://localhost:8080/"
        },
        "id": "YCiLozGBKNhv",
        "outputId": "215ba034-0807-4c2c-cadf-15d8c83c8082"
      },
      "execution_count": 4,
      "outputs": [
        {
          "output_type": "stream",
          "name": "stdout",
          "text": [
            "<class 'pandas.core.frame.DataFrame'>\n",
            "RangeIndex: 541909 entries, 0 to 541908\n",
            "Data columns (total 8 columns):\n",
            " #   Column       Non-Null Count   Dtype  \n",
            "---  ------       --------------   -----  \n",
            " 0   InvoiceNo    541909 non-null  object \n",
            " 1   StockCode    541909 non-null  object \n",
            " 2   Description  540455 non-null  object \n",
            " 3   Quantity     541909 non-null  int64  \n",
            " 4   InvoiceDate  541909 non-null  object \n",
            " 5   UnitPrice    541909 non-null  float64\n",
            " 6   CustomerID   406829 non-null  float64\n",
            " 7   Country      541909 non-null  object \n",
            "dtypes: float64(2), int64(1), object(5)\n",
            "memory usage: 33.1+ MB\n"
          ]
        }
      ]
    },
    {
      "cell_type": "markdown",
      "source": [
        "Kesimpulan:\n",
        "\n",
        "Berdasarkan hasil output `df.info()`, kita dapat mengetahui beberapa hal penting terkait struktur dataset:\n",
        "\n",
        "- Dataset terdiri dari **541.909 baris** dan **8 kolom**.\n",
        "- Kolom **`Description`** memiliki sekitar 1.454 baris data yang kosong.\n",
        "- Kolom **`CustomerID`** memiliki jumlah missing value yang signifikan (sekitar 135.000 baris).\n",
        "- Tipe data:\n",
        "  - `InvoiceNo`, `StockCode`, `Description`, dan `Country` bertipe **object** (teks/kategori).\n",
        "  - `Quantity` bertipe **int64**.\n",
        "  - `UnitPrice` dan `CustomerID` bertipe **float64**.\n",
        "  - `InvoiceDate` bertipe **datetime64**, yang menunjukkan adanya informasi waktu dalam data.\n",
        "\n",
        "📌 *Insight awal:*\n",
        "- Perlu dilakukan pembersihan data, terutama pada kolom `Description` dan `CustomerID` yang memiliki missing value.\n",
        "- Karena `CustomerID` sangat penting untuk membangun sistem rekomendasi berbasis pengguna (Collaborative Filtering), kita akan mempertimbangkan untuk memfilter data hanya pada baris yang memiliki nilai `CustomerID`.\n"
      ],
      "metadata": {
        "id": "TgGLdCONLNv-"
      }
    },
    {
      "cell_type": "code",
      "source": [
        "# Statistik deskriptif numerik\n",
        "df.describe()"
      ],
      "metadata": {
        "colab": {
          "base_uri": "https://localhost:8080/",
          "height": 300
        },
        "id": "0JObSBCHKQLj",
        "outputId": "a4ae905a-0b2c-4821-efcf-49e3334ff597"
      },
      "execution_count": 5,
      "outputs": [
        {
          "output_type": "execute_result",
          "data": {
            "text/plain": [
              "            Quantity      UnitPrice     CustomerID\n",
              "count  541909.000000  541909.000000  406829.000000\n",
              "mean        9.552250       4.611114   15287.690570\n",
              "std       218.081158      96.759853    1713.600303\n",
              "min    -80995.000000  -11062.060000   12346.000000\n",
              "25%         1.000000       1.250000   13953.000000\n",
              "50%         3.000000       2.080000   15152.000000\n",
              "75%        10.000000       4.130000   16791.000000\n",
              "max     80995.000000   38970.000000   18287.000000"
            ],
            "text/html": [
              "\n",
              "  <div id=\"df-f33b4347-6eda-49d4-82d7-71d7451dc7b8\" class=\"colab-df-container\">\n",
              "    <div>\n",
              "<style scoped>\n",
              "    .dataframe tbody tr th:only-of-type {\n",
              "        vertical-align: middle;\n",
              "    }\n",
              "\n",
              "    .dataframe tbody tr th {\n",
              "        vertical-align: top;\n",
              "    }\n",
              "\n",
              "    .dataframe thead th {\n",
              "        text-align: right;\n",
              "    }\n",
              "</style>\n",
              "<table border=\"1\" class=\"dataframe\">\n",
              "  <thead>\n",
              "    <tr style=\"text-align: right;\">\n",
              "      <th></th>\n",
              "      <th>Quantity</th>\n",
              "      <th>UnitPrice</th>\n",
              "      <th>CustomerID</th>\n",
              "    </tr>\n",
              "  </thead>\n",
              "  <tbody>\n",
              "    <tr>\n",
              "      <th>count</th>\n",
              "      <td>541909.000000</td>\n",
              "      <td>541909.000000</td>\n",
              "      <td>406829.000000</td>\n",
              "    </tr>\n",
              "    <tr>\n",
              "      <th>mean</th>\n",
              "      <td>9.552250</td>\n",
              "      <td>4.611114</td>\n",
              "      <td>15287.690570</td>\n",
              "    </tr>\n",
              "    <tr>\n",
              "      <th>std</th>\n",
              "      <td>218.081158</td>\n",
              "      <td>96.759853</td>\n",
              "      <td>1713.600303</td>\n",
              "    </tr>\n",
              "    <tr>\n",
              "      <th>min</th>\n",
              "      <td>-80995.000000</td>\n",
              "      <td>-11062.060000</td>\n",
              "      <td>12346.000000</td>\n",
              "    </tr>\n",
              "    <tr>\n",
              "      <th>25%</th>\n",
              "      <td>1.000000</td>\n",
              "      <td>1.250000</td>\n",
              "      <td>13953.000000</td>\n",
              "    </tr>\n",
              "    <tr>\n",
              "      <th>50%</th>\n",
              "      <td>3.000000</td>\n",
              "      <td>2.080000</td>\n",
              "      <td>15152.000000</td>\n",
              "    </tr>\n",
              "    <tr>\n",
              "      <th>75%</th>\n",
              "      <td>10.000000</td>\n",
              "      <td>4.130000</td>\n",
              "      <td>16791.000000</td>\n",
              "    </tr>\n",
              "    <tr>\n",
              "      <th>max</th>\n",
              "      <td>80995.000000</td>\n",
              "      <td>38970.000000</td>\n",
              "      <td>18287.000000</td>\n",
              "    </tr>\n",
              "  </tbody>\n",
              "</table>\n",
              "</div>\n",
              "    <div class=\"colab-df-buttons\">\n",
              "\n",
              "  <div class=\"colab-df-container\">\n",
              "    <button class=\"colab-df-convert\" onclick=\"convertToInteractive('df-f33b4347-6eda-49d4-82d7-71d7451dc7b8')\"\n",
              "            title=\"Convert this dataframe to an interactive table.\"\n",
              "            style=\"display:none;\">\n",
              "\n",
              "  <svg xmlns=\"http://www.w3.org/2000/svg\" height=\"24px\" viewBox=\"0 -960 960 960\">\n",
              "    <path d=\"M120-120v-720h720v720H120Zm60-500h600v-160H180v160Zm220 220h160v-160H400v160Zm0 220h160v-160H400v160ZM180-400h160v-160H180v160Zm440 0h160v-160H620v160ZM180-180h160v-160H180v160Zm440 0h160v-160H620v160Z\"/>\n",
              "  </svg>\n",
              "    </button>\n",
              "\n",
              "  <style>\n",
              "    .colab-df-container {\n",
              "      display:flex;\n",
              "      gap: 12px;\n",
              "    }\n",
              "\n",
              "    .colab-df-convert {\n",
              "      background-color: #E8F0FE;\n",
              "      border: none;\n",
              "      border-radius: 50%;\n",
              "      cursor: pointer;\n",
              "      display: none;\n",
              "      fill: #1967D2;\n",
              "      height: 32px;\n",
              "      padding: 0 0 0 0;\n",
              "      width: 32px;\n",
              "    }\n",
              "\n",
              "    .colab-df-convert:hover {\n",
              "      background-color: #E2EBFA;\n",
              "      box-shadow: 0px 1px 2px rgba(60, 64, 67, 0.3), 0px 1px 3px 1px rgba(60, 64, 67, 0.15);\n",
              "      fill: #174EA6;\n",
              "    }\n",
              "\n",
              "    .colab-df-buttons div {\n",
              "      margin-bottom: 4px;\n",
              "    }\n",
              "\n",
              "    [theme=dark] .colab-df-convert {\n",
              "      background-color: #3B4455;\n",
              "      fill: #D2E3FC;\n",
              "    }\n",
              "\n",
              "    [theme=dark] .colab-df-convert:hover {\n",
              "      background-color: #434B5C;\n",
              "      box-shadow: 0px 1px 3px 1px rgba(0, 0, 0, 0.15);\n",
              "      filter: drop-shadow(0px 1px 2px rgba(0, 0, 0, 0.3));\n",
              "      fill: #FFFFFF;\n",
              "    }\n",
              "  </style>\n",
              "\n",
              "    <script>\n",
              "      const buttonEl =\n",
              "        document.querySelector('#df-f33b4347-6eda-49d4-82d7-71d7451dc7b8 button.colab-df-convert');\n",
              "      buttonEl.style.display =\n",
              "        google.colab.kernel.accessAllowed ? 'block' : 'none';\n",
              "\n",
              "      async function convertToInteractive(key) {\n",
              "        const element = document.querySelector('#df-f33b4347-6eda-49d4-82d7-71d7451dc7b8');\n",
              "        const dataTable =\n",
              "          await google.colab.kernel.invokeFunction('convertToInteractive',\n",
              "                                                    [key], {});\n",
              "        if (!dataTable) return;\n",
              "\n",
              "        const docLinkHtml = 'Like what you see? Visit the ' +\n",
              "          '<a target=\"_blank\" href=https://colab.research.google.com/notebooks/data_table.ipynb>data table notebook</a>'\n",
              "          + ' to learn more about interactive tables.';\n",
              "        element.innerHTML = '';\n",
              "        dataTable['output_type'] = 'display_data';\n",
              "        await google.colab.output.renderOutput(dataTable, element);\n",
              "        const docLink = document.createElement('div');\n",
              "        docLink.innerHTML = docLinkHtml;\n",
              "        element.appendChild(docLink);\n",
              "      }\n",
              "    </script>\n",
              "  </div>\n",
              "\n",
              "\n",
              "    <div id=\"df-48ff5534-e1db-48a6-ad18-98add7988bd4\">\n",
              "      <button class=\"colab-df-quickchart\" onclick=\"quickchart('df-48ff5534-e1db-48a6-ad18-98add7988bd4')\"\n",
              "                title=\"Suggest charts\"\n",
              "                style=\"display:none;\">\n",
              "\n",
              "<svg xmlns=\"http://www.w3.org/2000/svg\" height=\"24px\"viewBox=\"0 0 24 24\"\n",
              "     width=\"24px\">\n",
              "    <g>\n",
              "        <path d=\"M19 3H5c-1.1 0-2 .9-2 2v14c0 1.1.9 2 2 2h14c1.1 0 2-.9 2-2V5c0-1.1-.9-2-2-2zM9 17H7v-7h2v7zm4 0h-2V7h2v10zm4 0h-2v-4h2v4z\"/>\n",
              "    </g>\n",
              "</svg>\n",
              "      </button>\n",
              "\n",
              "<style>\n",
              "  .colab-df-quickchart {\n",
              "      --bg-color: #E8F0FE;\n",
              "      --fill-color: #1967D2;\n",
              "      --hover-bg-color: #E2EBFA;\n",
              "      --hover-fill-color: #174EA6;\n",
              "      --disabled-fill-color: #AAA;\n",
              "      --disabled-bg-color: #DDD;\n",
              "  }\n",
              "\n",
              "  [theme=dark] .colab-df-quickchart {\n",
              "      --bg-color: #3B4455;\n",
              "      --fill-color: #D2E3FC;\n",
              "      --hover-bg-color: #434B5C;\n",
              "      --hover-fill-color: #FFFFFF;\n",
              "      --disabled-bg-color: #3B4455;\n",
              "      --disabled-fill-color: #666;\n",
              "  }\n",
              "\n",
              "  .colab-df-quickchart {\n",
              "    background-color: var(--bg-color);\n",
              "    border: none;\n",
              "    border-radius: 50%;\n",
              "    cursor: pointer;\n",
              "    display: none;\n",
              "    fill: var(--fill-color);\n",
              "    height: 32px;\n",
              "    padding: 0;\n",
              "    width: 32px;\n",
              "  }\n",
              "\n",
              "  .colab-df-quickchart:hover {\n",
              "    background-color: var(--hover-bg-color);\n",
              "    box-shadow: 0 1px 2px rgba(60, 64, 67, 0.3), 0 1px 3px 1px rgba(60, 64, 67, 0.15);\n",
              "    fill: var(--button-hover-fill-color);\n",
              "  }\n",
              "\n",
              "  .colab-df-quickchart-complete:disabled,\n",
              "  .colab-df-quickchart-complete:disabled:hover {\n",
              "    background-color: var(--disabled-bg-color);\n",
              "    fill: var(--disabled-fill-color);\n",
              "    box-shadow: none;\n",
              "  }\n",
              "\n",
              "  .colab-df-spinner {\n",
              "    border: 2px solid var(--fill-color);\n",
              "    border-color: transparent;\n",
              "    border-bottom-color: var(--fill-color);\n",
              "    animation:\n",
              "      spin 1s steps(1) infinite;\n",
              "  }\n",
              "\n",
              "  @keyframes spin {\n",
              "    0% {\n",
              "      border-color: transparent;\n",
              "      border-bottom-color: var(--fill-color);\n",
              "      border-left-color: var(--fill-color);\n",
              "    }\n",
              "    20% {\n",
              "      border-color: transparent;\n",
              "      border-left-color: var(--fill-color);\n",
              "      border-top-color: var(--fill-color);\n",
              "    }\n",
              "    30% {\n",
              "      border-color: transparent;\n",
              "      border-left-color: var(--fill-color);\n",
              "      border-top-color: var(--fill-color);\n",
              "      border-right-color: var(--fill-color);\n",
              "    }\n",
              "    40% {\n",
              "      border-color: transparent;\n",
              "      border-right-color: var(--fill-color);\n",
              "      border-top-color: var(--fill-color);\n",
              "    }\n",
              "    60% {\n",
              "      border-color: transparent;\n",
              "      border-right-color: var(--fill-color);\n",
              "    }\n",
              "    80% {\n",
              "      border-color: transparent;\n",
              "      border-right-color: var(--fill-color);\n",
              "      border-bottom-color: var(--fill-color);\n",
              "    }\n",
              "    90% {\n",
              "      border-color: transparent;\n",
              "      border-bottom-color: var(--fill-color);\n",
              "    }\n",
              "  }\n",
              "</style>\n",
              "\n",
              "      <script>\n",
              "        async function quickchart(key) {\n",
              "          const quickchartButtonEl =\n",
              "            document.querySelector('#' + key + ' button');\n",
              "          quickchartButtonEl.disabled = true;  // To prevent multiple clicks.\n",
              "          quickchartButtonEl.classList.add('colab-df-spinner');\n",
              "          try {\n",
              "            const charts = await google.colab.kernel.invokeFunction(\n",
              "                'suggestCharts', [key], {});\n",
              "          } catch (error) {\n",
              "            console.error('Error during call to suggestCharts:', error);\n",
              "          }\n",
              "          quickchartButtonEl.classList.remove('colab-df-spinner');\n",
              "          quickchartButtonEl.classList.add('colab-df-quickchart-complete');\n",
              "        }\n",
              "        (() => {\n",
              "          let quickchartButtonEl =\n",
              "            document.querySelector('#df-48ff5534-e1db-48a6-ad18-98add7988bd4 button');\n",
              "          quickchartButtonEl.style.display =\n",
              "            google.colab.kernel.accessAllowed ? 'block' : 'none';\n",
              "        })();\n",
              "      </script>\n",
              "    </div>\n",
              "\n",
              "    </div>\n",
              "  </div>\n"
            ],
            "application/vnd.google.colaboratory.intrinsic+json": {
              "type": "dataframe",
              "summary": "{\n  \"name\": \"df\",\n  \"rows\": 8,\n  \"fields\": [\n    {\n      \"column\": \"Quantity\",\n      \"properties\": {\n        \"dtype\": \"number\",\n        \"std\": 196412.42266088672,\n        \"min\": -80995.0,\n        \"max\": 541909.0,\n        \"num_unique_values\": 8,\n        \"samples\": [\n          9.55224954743324,\n          3.0,\n          541909.0\n        ],\n        \"semantic_type\": \"\",\n        \"description\": \"\"\n      }\n    },\n    {\n      \"column\": \"UnitPrice\",\n      \"properties\": {\n        \"dtype\": \"number\",\n        \"std\": 190752.07570771928,\n        \"min\": -11062.06,\n        \"max\": 541909.0,\n        \"num_unique_values\": 8,\n        \"samples\": [\n          4.611113626088513,\n          2.08,\n          541909.0\n        ],\n        \"semantic_type\": \"\",\n        \"description\": \"\"\n      }\n    },\n    {\n      \"column\": \"CustomerID\",\n      \"properties\": {\n        \"dtype\": \"number\",\n        \"std\": 139204.16800694188,\n        \"min\": 1713.6003033216632,\n        \"max\": 406829.0,\n        \"num_unique_values\": 8,\n        \"samples\": [\n          15287.690570239585,\n          15152.0,\n          406829.0\n        ],\n        \"semantic_type\": \"\",\n        \"description\": \"\"\n      }\n    }\n  ]\n}"
            }
          },
          "metadata": {},
          "execution_count": 5
        }
      ]
    },
    {
      "cell_type": "markdown",
      "source": [
        "Kesimpulan:\n",
        "\n",
        "Output `df.describe()` memberikan ringkasan statistik deskriptif untuk kolom numerik dalam dataset:\n",
        "\n",
        " Kolom `Quantity`\n",
        "- **Min**: -80.995 — terdapat nilai negatif, kemungkinan merupakan transaksi retur.\n",
        "- **Mean**: 9.55 — rata-rata jumlah barang yang dibeli adalah sekitar 9 unit.\n",
        "- **Max**: 80.995 — nilai maksimum menunjukkan pembelian dalam jumlah besar.\n",
        "- **Std**: 218 — standar deviasi yang besar menunjukkan data sangat menyebar dan kemungkinan ada outlier.\n",
        "\n",
        "Kolom `InvoiceDate`\n",
        "- Data `InvoiceDate` sudah bertipe datetime, namun nilai statistik seperti `mean`, `25%`, dan lainnya ditampilkan dalam format waktu. Ini hanya bersifat informatif dan tidak relevan untuk analisis statistik secara langsung.\n",
        "\n",
        "Kolom `UnitPrice`\n",
        "- **Min**: -11.062 — harga negatif tidak logis dan mengindikasikan kesalahan atau retur.\n",
        "- **Mean**: 4.61 — rata-rata harga produk sekitar 4.6 (dalam satuan mata uang dataset, kemungkinan Poundsterling).\n",
        "- **Max**: 38.970 — ada produk dengan harga sangat tinggi yang bisa menjadi outlier.\n",
        "- **Std**: 96.76 — variasi harga sangat tinggi, perlu diwaspadai saat melakukan analisis lanjutan.\n",
        "\n",
        "Kolom `CustomerID`\n",
        "- **Count**: 406.829 — jumlah pelanggan unik yang terdata sebagian (karena banyak missing).\n",
        "- **Min & Max**: Rentang ID pelanggan dari 12346 hingga 18287.\n",
        "- **Mean & Std**: Nilai-nilai ini tidak terlalu penting karena ID bukan data numerik untuk analisis statistik biasa.\n",
        "\n",
        "📌 *Insight awal:*\n",
        "- Terdapat outlier dan nilai-nilai yang tidak valid (negatif) pada kolom `Quantity` dan `UnitPrice` yang perlu dibersihkan.\n",
        "- Data `CustomerID` yang kosong bisa di-drop jika ingin menggunakan pendekatan Collaborative Filtering.\n",
        "- `InvoiceDate` akan lebih berguna bila diolah untuk analisis temporal seperti tren pembelian berdasarkan waktu.\n",
        "\n"
      ],
      "metadata": {
        "id": "xp0UhPiQLls5"
      }
    },
    {
      "cell_type": "code",
      "source": [
        "# Jumlah baris dan kolom dataset awal\n",
        "print(f\"Dataset memiliki {df.shape[0]} baris dan {df.shape[1]} kolom.\\n\")\n",
        "\n",
        "# Cek jumlah missing value per kolom\n",
        "print(\"Jumlah missing value per kolom:\")\n",
        "print(df.isnull().sum())"
      ],
      "metadata": {
        "colab": {
          "base_uri": "https://localhost:8080/"
        },
        "id": "ZvB8HItFXQxU",
        "outputId": "3e6348e0-522d-46f8-ee00-6a1cc011d520"
      },
      "execution_count": 6,
      "outputs": [
        {
          "output_type": "stream",
          "name": "stdout",
          "text": [
            "Dataset memiliki 541909 baris dan 8 kolom.\n",
            "\n",
            "Jumlah missing value per kolom:\n",
            "InvoiceNo           0\n",
            "StockCode           0\n",
            "Description      1454\n",
            "Quantity            0\n",
            "InvoiceDate         0\n",
            "UnitPrice           0\n",
            "CustomerID     135080\n",
            "Country             0\n",
            "dtype: int64\n"
          ]
        }
      ]
    },
    {
      "cell_type": "markdown",
      "source": [
        "**Struktur Dataset**\n",
        "\n",
        "Dataset memiliki **541.909 baris** dan **8 kolom**. Berikut adalah ringkasan jumlah missing value pada tiap kolom:\n",
        "\n",
        "- `Description`: 1.454 nilai kosong\n",
        "- `CustomerID`: 135.080 nilai kosong\n",
        "\n",
        "Kehadiran missing value ini akan dipertimbangkan dalam proses **Data Preparation**, terutama untuk pemodelan berbasis pelanggan (Collaborative Filtering).\n"
      ],
      "metadata": {
        "id": "pnrE9V85XUtp"
      }
    },
    {
      "cell_type": "markdown",
      "source": [
        "#  EDA"
      ],
      "metadata": {
        "id": "qBVWwrsqLv1g"
      }
    },
    {
      "cell_type": "code",
      "source": [
        "import matplotlib.pyplot as plt\n",
        "import seaborn as sns\n",
        "\n",
        "plt.figure(figsize=(10, 5))\n",
        "sns.histplot(df['Quantity'], bins=100, kde=True)\n",
        "plt.title('Distribusi Jumlah Produk (Quantity)')\n",
        "plt.xlabel('Quantity')\n",
        "plt.ylabel('Frekuensi')\n",
        "plt.xlim(-100, 100)  # fokus ke range kecil untuk visualisasi awal\n",
        "plt.grid(True)\n",
        "plt.show()\n"
      ],
      "metadata": {
        "colab": {
          "base_uri": "https://localhost:8080/",
          "height": 487
        },
        "id": "OQczp52RLlWe",
        "outputId": "07a95437-c15f-4e13-f6f6-b45577ad55a7"
      },
      "execution_count": 7,
      "outputs": [
        {
          "output_type": "display_data",
          "data": {
            "text/plain": [
              "<Figure size 1000x500 with 1 Axes>"
            ],
            "image/png": "[encoded data removed]"
          },
          "metadata": {}
        }
      ]
    },
    {
      "cell_type": "markdown",
      "source": [
        "Kesimpulan:\n",
        "\n",
        "1. Nilai Negatif:\n",
        "\n",
        "- Nilai-nilai negatif (Quantity < 0) kemungkinan besar merupakan retur atau pembatalan pembelian.\n",
        "\n",
        "- Perlu dipertimbangkan apakah akan: Disimpan untuk analisis retur, atau Dihapus jika hanya ingin menganalisis pembelian bersih.\n",
        "\n",
        "2. Skewed Distribution:\n",
        "\n",
        "- Distribusi sangat skewed ke kanan (right-skewed), artinya ada beberapa transaksi dengan pembelian dalam jumlah sangat besar (outlier), tapi mayoritas adalah pembelian kecil.\n",
        "\n",
        "- Visualisasi menggunakan xlim(-100, 100) membuat distribusi utama lebih terlihat, tapi nilai ekstrim tidak ikut divisualisasikan penuh.\n",
        "\n"
      ],
      "metadata": {
        "id": "rDUqE-a_MU2V"
      }
    },
    {
      "cell_type": "code",
      "source": [
        "plt.figure(figsize=(10, 4))\n",
        "df[df['UnitPrice'] < 100]['UnitPrice'].hist(bins=100, color='skyblue', edgecolor='black')\n",
        "plt.title('Distribusi Harga Satuan Produk (UnitPrice)')\n",
        "plt.xlabel('UnitPrice')\n",
        "plt.ylabel('Frekuensi')\n",
        "plt.grid(False)\n",
        "plt.show()\n"
      ],
      "metadata": {
        "colab": {
          "base_uri": "https://localhost:8080/",
          "height": 410
        },
        "id": "Fpi_vdDSMW6X",
        "outputId": "535a5a8c-14db-45a3-f97d-9781b0829229"
      },
      "execution_count": 8,
      "outputs": [
        {
          "output_type": "display_data",
          "data": {
            "text/plain": [
              "<Figure size 1000x400 with 1 Axes>"
            ],
            "image/png": "[encoded data removed]"
          },
          "metadata": {}
        }
      ]
    },
    {
      "cell_type": "markdown",
      "source": [
        "kesimpulan:\n",
        "\n",
        "UnitPrice adalah harga satuan dari masing-masing produk yang tercatat dalam dataset.\n",
        "\n",
        "Dari statistik sebelumnya (describe()):\n",
        "\n",
        "- Rata-rata harga produk: ± £4.61\n",
        "\n",
        "- Harga maksimum: £38,970\n",
        "\n",
        "- Ada harga negatif (-£11,062) → ini tidak wajar.\n",
        "\n"
      ],
      "metadata": {
        "id": "uZAbDjIbNE6o"
      }
    },
    {
      "cell_type": "code",
      "source": [
        "import pandas as pd\n",
        "import matplotlib.pyplot as plt\n",
        "\n",
        "# Pastikan kolom InvoiceDate bertipe datetime\n",
        "df['InvoiceDate'] = pd.to_datetime(df['InvoiceDate'], errors='coerce')\n",
        "\n",
        "# Lalu baru buat kolom InvoiceMonth\n",
        "df['InvoiceMonth'] = df['InvoiceDate'].dt.to_period('M')\n",
        "\n",
        "monthly_orders = df.groupby('InvoiceMonth').size()\n",
        "\n",
        "monthly_orders.plot(kind='bar', figsize=(15, 5), color='skyblue', edgecolor='black')\n",
        "plt.title('Jumlah Transaksi per Bulan')\n",
        "plt.xlabel('Bulan')\n",
        "plt.ylabel('Jumlah Transaksi')\n",
        "plt.xticks(rotation=45)\n",
        "plt.grid(True)\n",
        "plt.show()\n"
      ],
      "metadata": {
        "colab": {
          "base_uri": "https://localhost:8080/",
          "height": 435
        },
        "id": "eisB2RHqNL0_",
        "outputId": "62e7a7fc-bd6a-4d1c-91ee-22a6dc8c0524"
      },
      "execution_count": 11,
      "outputs": [
        {
          "output_type": "stream",
          "name": "stderr",
          "text": [
            "<ipython-input-11-94226950bce9>:5: UserWarning: Could not infer format, so each element will be parsed individually, falling back to `dateutil`. To ensure parsing is consistent and as-expected, please specify a format.\n",
            "  df['InvoiceDate'] = pd.to_datetime(df['InvoiceDate'], errors='coerce')\n"
          ]
        },
        {
          "output_type": "display_data",
          "data": {
            "text/plain": [
              "<Figure size 1500x500 with 1 Axes>"
            ],
            "image/png": "[encoded data removed]"
          },
          "metadata": {}
        }
      ]
    },
    {
      "cell_type": "markdown",
      "source": [
        "Kesimpulan:\n",
        "\n",
        "- Tren penjualan meningkat saat mendekati akhir tahun (karena musim belanja seperti Natal) dari bulan 9 sampai bulan 11.\n",
        "\n",
        "- Penurunan tajam pada bulan Desember 2011, karena data berhenti di tanggal 9."
      ],
      "metadata": {
        "id": "fJATSdYJNfc4"
      }
    },
    {
      "cell_type": "code",
      "source": [
        "country_counts = df['Country'].value_counts()\n",
        "\n",
        "plt.figure(figsize=(12,6))\n",
        "country_counts.head(10).plot(kind='bar', color='mediumseagreen', edgecolor='black')\n",
        "plt.title('10 Negara dengan Jumlah Transaksi Terbanyak')\n",
        "plt.xlabel('Negara')\n",
        "plt.ylabel('Jumlah Transaksi')\n",
        "plt.xticks(rotation=45)\n",
        "plt.grid(True)\n",
        "plt.show()\n"
      ],
      "metadata": {
        "colab": {
          "base_uri": "https://localhost:8080/",
          "height": 555
        },
        "id": "FyDV__p9Ngg5",
        "outputId": "fc3f3ec6-124d-47b7-b773-5440f4cc2a9b"
      },
      "execution_count": 12,
      "outputs": [
        {
          "output_type": "display_data",
          "data": {
            "text/plain": [
              "<Figure size 1200x600 with 1 Axes>"
            ],
            "image/png": "[encoded data removed]"
          },
          "metadata": {}
        }
      ]
    },
    {
      "cell_type": "markdown",
      "source": [
        "Kesimpulan:\n",
        "\n",
        "- United Kingdom (UK) memiliki jumlah transaksi tertinggi karena perusahaan ini berbasis di UK.\n",
        "\n",
        "- Negara lain seperti Germany, France, EIRE, dan Spain sering muncul di posisi 5 besar.\n",
        "\n",
        "- Negara dengan transaksi sedikit (1–5 transaksi) bisa dipertimbangkan sebagai outlier atau diabaikan untuk analisis global."
      ],
      "metadata": {
        "id": "HrT8uwX7OAGw"
      }
    },
    {
      "cell_type": "markdown",
      "source": [
        "# DATA PREPROCESSING"
      ],
      "metadata": {
        "id": "skGw9yWUOh1N"
      }
    },
    {
      "cell_type": "code",
      "source": [
        "# Salin data untuk preprocessing\n",
        "df_clean = df.copy()\n",
        "\n",
        "# Hapus baris yang memiliki missing value pada CustomerID dan Description\n",
        "df_clean.dropna(subset=['CustomerID', 'Description'], inplace=True)\n",
        "\n",
        "# Tampilkan jumlah baris setelah penghapusan\n",
        "print(f\"Jumlah baris setelah menghapus NaN pada CustomerID & Description: {df_clean.shape[0]}\")"
      ],
      "metadata": {
        "id": "2vdgXU0bfA-y",
        "colab": {
          "base_uri": "https://localhost:8080/"
        },
        "outputId": "14ea8de0-942c-4d0b-adbf-55967914514a"
      },
      "execution_count": 13,
      "outputs": [
        {
          "output_type": "stream",
          "name": "stdout",
          "text": [
            "Jumlah baris setelah menghapus NaN pada CustomerID & Description: 406829\n"
          ]
        }
      ]
    },
    {
      "cell_type": "markdown",
      "source": [
        "**Menghapus Nilai Kosong**\n",
        "\n",
        "Kolom `CustomerID` dan `Description` merupakan informasi penting yang diperlukan untuk sistem rekomendasi. Oleh karena itu, baris yang memiliki nilai kosong (`NaN`) pada kolom ini dihapus.\n",
        "\n",
        "Jumlah baris data setelah menghapus missing value adalah 406829.\n"
      ],
      "metadata": {
        "id": "dz4qIb6g4J36"
      }
    },
    {
      "cell_type": "code",
      "source": [
        "# Hapus transaksi yang Invoice-nya dibatalkan (mengandung \"C\")\n",
        "df_clean = df_clean[~df_clean['InvoiceNo'].astype(str).str.contains('C')]\n",
        "\n",
        "# Tampilkan jumlah baris setelah penghapusan\n",
        "print(f\"Jumlah baris setelah menghapus transaksi dibatalkan: {df_clean.shape[0]}\")"
      ],
      "metadata": {
        "colab": {
          "base_uri": "https://localhost:8080/"
        },
        "id": "fc0n4_Zz4Rz5",
        "outputId": "d66acae6-5a2e-423e-bbbd-6d1eb98080d3"
      },
      "execution_count": 14,
      "outputs": [
        {
          "output_type": "stream",
          "name": "stdout",
          "text": [
            "Jumlah baris setelah menghapus transaksi dibatalkan: 397924\n"
          ]
        }
      ]
    },
    {
      "cell_type": "markdown",
      "source": [
        "**Menghapus Transaksi yang Dibatalkan**\n",
        "\n",
        "Transaksi yang dibatalkan ditandai dengan `InvoiceNo` yang mengandung huruf \"C\". Data seperti ini tidak diperlukan dalam proses pembuatan sistem rekomendasi karena tidak mencerminkan pembelian sebenarnya. Oleh karena itu, transaksi ini dihapus dari dataset.\n"
      ],
      "metadata": {
        "id": "AuWDHCtG6AfF"
      }
    },
    {
      "cell_type": "code",
      "source": [
        "# Filter hanya nilai Quantity dan UnitPrice yang valid (> 0)\n",
        "df_clean = df_clean[(df_clean['Quantity'] > 0) & (df_clean['UnitPrice'] > 0)]\n",
        "\n",
        "# Tampilkan jumlah baris setelah pembersihan\n",
        "print(f\"Jumlah baris setelah menghapus Quantity/UnitPrice <= 0: {df_clean.shape[0]}\")\n"
      ],
      "metadata": {
        "colab": {
          "base_uri": "https://localhost:8080/"
        },
        "id": "bHqbnG6x4Vnh",
        "outputId": "2093f8fe-4689-4f9c-e139-10030563bd83"
      },
      "execution_count": 15,
      "outputs": [
        {
          "output_type": "stream",
          "name": "stdout",
          "text": [
            "Jumlah baris setelah menghapus Quantity/UnitPrice <= 0: 397884\n"
          ]
        }
      ]
    },
    {
      "cell_type": "markdown",
      "source": [
        "**Menghapus Data yang Tidak Valid**\n",
        "\n",
        "Beberapa transaksi memiliki nilai `Quantity` dan `UnitPrice` yang kurang dari atau sama dengan nol. Nilai ini tidak valid dalam konteks pembelian, sehingga baris tersebut dihapus dari dataset.\n"
      ],
      "metadata": {
        "id": "Y8sYmaUF6JVw"
      }
    },
    {
      "cell_type": "code",
      "source": [
        "# Buat kolom TotalPrice dari Quantity x UnitPrice\n",
        "df_clean['TotalPrice'] = df_clean['Quantity'] * df_clean['UnitPrice']\n",
        "\n",
        "# Cek hasil kolom baru\n",
        "df_clean[['Quantity', 'UnitPrice', 'TotalPrice']].head()\n"
      ],
      "metadata": {
        "colab": {
          "base_uri": "https://localhost:8080/",
          "height": 206
        },
        "id": "sylz3O-V4YIE",
        "outputId": "468055a4-d1e3-4daa-af12-9f0f9d17b501"
      },
      "execution_count": 16,
      "outputs": [
        {
          "output_type": "execute_result",
          "data": {
            "text/plain": [
              "   Quantity  UnitPrice  TotalPrice\n",
              "0         6       2.55       15.30\n",
              "1         6       3.39       20.34\n",
              "2         8       2.75       22.00\n",
              "3         6       3.39       20.34\n",
              "4         6       3.39       20.34"
            ],
            "text/html": [
              "\n",
              "  <div id=\"df-dac1d959-edec-4da0-bca2-5f1affd1837e\" class=\"colab-df-container\">\n",
              "    <div>\n",
              "<style scoped>\n",
              "    .dataframe tbody tr th:only-of-type {\n",
              "        vertical-align: middle;\n",
              "    }\n",
              "\n",
              "    .dataframe tbody tr th {\n",
              "        vertical-align: top;\n",
              "    }\n",
              "\n",
              "    .dataframe thead th {\n",
              "        text-align: right;\n",
              "    }\n",
              "</style>\n",
              "<table border=\"1\" class=\"dataframe\">\n",
              "  <thead>\n",
              "    <tr style=\"text-align: right;\">\n",
              "      <th></th>\n",
              "      <th>Quantity</th>\n",
              "      <th>UnitPrice</th>\n",
              "      <th>TotalPrice</th>\n",
              "    </tr>\n",
              "  </thead>\n",
              "  <tbody>\n",
              "    <tr>\n",
              "      <th>0</th>\n",
              "      <td>6</td>\n",
              "      <td>2.55</td>\n",
              "      <td>15.30</td>\n",
              "    </tr>\n",
              "    <tr>\n",
              "      <th>1</th>\n",
              "      <td>6</td>\n",
              "      <td>3.39</td>\n",
              "      <td>20.34</td>\n",
              "    </tr>\n",
              "    <tr>\n",
              "      <th>2</th>\n",
              "      <td>8</td>\n",
              "      <td>2.75</td>\n",
              "      <td>22.00</td>\n",
              "    </tr>\n",
              "    <tr>\n",
              "      <th>3</th>\n",
              "      <td>6</td>\n",
              "      <td>3.39</td>\n",
              "      <td>20.34</td>\n",
              "    </tr>\n",
              "    <tr>\n",
              "      <th>4</th>\n",
              "      <td>6</td>\n",
              "      <td>3.39</td>\n",
              "      <td>20.34</td>\n",
              "    </tr>\n",
              "  </tbody>\n",
              "</table>\n",
              "</div>\n",
              "    <div class=\"colab-df-buttons\">\n",
              "\n",
              "  <div class=\"colab-df-container\">\n",
              "    <button class=\"colab-df-convert\" onclick=\"convertToInteractive('df-dac1d959-edec-4da0-bca2-5f1affd1837e')\"\n",
              "            title=\"Convert this dataframe to an interactive table.\"\n",
              "            style=\"display:none;\">\n",
              "\n",
              "  <svg xmlns=\"http://www.w3.org/2000/svg\" height=\"24px\" viewBox=\"0 -960 960 960\">\n",
              "    <path d=\"M120-120v-720h720v720H120Zm60-500h600v-160H180v160Zm220 220h160v-160H400v160Zm0 220h160v-160H400v160ZM180-400h160v-160H180v160Zm440 0h160v-160H620v160ZM180-180h160v-160H180v160Zm440 0h160v-160H620v160Z\"/>\n",
              "  </svg>\n",
              "    </button>\n",
              "\n",
              "  <style>\n",
              "    .colab-df-container {\n",
              "      display:flex;\n",
              "      gap: 12px;\n",
              "    }\n",
              "\n",
              "    .colab-df-convert {\n",
              "      background-color: #E8F0FE;\n",
              "      border: none;\n",
              "      border-radius: 50%;\n",
              "      cursor: pointer;\n",
              "      display: none;\n",
              "      fill: #1967D2;\n",
              "      height: 32px;\n",
              "      padding: 0 0 0 0;\n",
              "      width: 32px;\n",
              "    }\n",
              "\n",
              "    .colab-df-convert:hover {\n",
              "      background-color: #E2EBFA;\n",
              "      box-shadow: 0px 1px 2px rgba(60, 64, 67, 0.3), 0px 1px 3px 1px rgba(60, 64, 67, 0.15);\n",
              "      fill: #174EA6;\n",
              "    }\n",
              "\n",
              "    .colab-df-buttons div {\n",
              "      margin-bottom: 4px;\n",
              "    }\n",
              "\n",
              "    [theme=dark] .colab-df-convert {\n",
              "      background-color: #3B4455;\n",
              "      fill: #D2E3FC;\n",
              "    }\n",
              "\n",
              "    [theme=dark] .colab-df-convert:hover {\n",
              "      background-color: #434B5C;\n",
              "      box-shadow: 0px 1px 3px 1px rgba(0, 0, 0, 0.15);\n",
              "      filter: drop-shadow(0px 1px 2px rgba(0, 0, 0, 0.3));\n",
              "      fill: #FFFFFF;\n",
              "    }\n",
              "  </style>\n",
              "\n",
              "    <script>\n",
              "      const buttonEl =\n",
              "        document.querySelector('#df-dac1d959-edec-4da0-bca2-5f1affd1837e button.colab-df-convert');\n",
              "      buttonEl.style.display =\n",
              "        google.colab.kernel.accessAllowed ? 'block' : 'none';\n",
              "\n",
              "      async function convertToInteractive(key) {\n",
              "        const element = document.querySelector('#df-dac1d959-edec-4da0-bca2-5f1affd1837e');\n",
              "        const dataTable =\n",
              "          await google.colab.kernel.invokeFunction('convertToInteractive',\n",
              "                                                    [key], {});\n",
              "        if (!dataTable) return;\n",
              "\n",
              "        const docLinkHtml = 'Like what you see? Visit the ' +\n",
              "          '<a target=\"_blank\" href=https://colab.research.google.com/notebooks/data_table.ipynb>data table notebook</a>'\n",
              "          + ' to learn more about interactive tables.';\n",
              "        element.innerHTML = '';\n",
              "        dataTable['output_type'] = 'display_data';\n",
              "        await google.colab.output.renderOutput(dataTable, element);\n",
              "        const docLink = document.createElement('div');\n",
              "        docLink.innerHTML = docLinkHtml;\n",
              "        element.appendChild(docLink);\n",
              "      }\n",
              "    </script>\n",
              "  </div>\n",
              "\n",
              "\n",
              "    <div id=\"df-23b6ba17-8306-4bb1-be8c-880e84734b23\">\n",
              "      <button class=\"colab-df-quickchart\" onclick=\"quickchart('df-23b6ba17-8306-4bb1-be8c-880e84734b23')\"\n",
              "                title=\"Suggest charts\"\n",
              "                style=\"display:none;\">\n",
              "\n",
              "<svg xmlns=\"http://www.w3.org/2000/svg\" height=\"24px\"viewBox=\"0 0 24 24\"\n",
              "     width=\"24px\">\n",
              "    <g>\n",
              "        <path d=\"M19 3H5c-1.1 0-2 .9-2 2v14c0 1.1.9 2 2 2h14c1.1 0 2-.9 2-2V5c0-1.1-.9-2-2-2zM9 17H7v-7h2v7zm4 0h-2V7h2v10zm4 0h-2v-4h2v4z\"/>\n",
              "    </g>\n",
              "</svg>\n",
              "      </button>\n",
              "\n",
              "<style>\n",
              "  .colab-df-quickchart {\n",
              "      --bg-color: #E8F0FE;\n",
              "      --fill-color: #1967D2;\n",
              "      --hover-bg-color: #E2EBFA;\n",
              "      --hover-fill-color: #174EA6;\n",
              "      --disabled-fill-color: #AAA;\n",
              "      --disabled-bg-color: #DDD;\n",
              "  }\n",
              "\n",
              "  [theme=dark] .colab-df-quickchart {\n",
              "      --bg-color: #3B4455;\n",
              "      --fill-color: #D2E3FC;\n",
              "      --hover-bg-color: #434B5C;\n",
              "      --hover-fill-color: #FFFFFF;\n",
              "      --disabled-bg-color: #3B4455;\n",
              "      --disabled-fill-color: #666;\n",
              "  }\n",
              "\n",
              "  .colab-df-quickchart {\n",
              "    background-color: var(--bg-color);\n",
              "    border: none;\n",
              "    border-radius: 50%;\n",
              "    cursor: pointer;\n",
              "    display: none;\n",
              "    fill: var(--fill-color);\n",
              "    height: 32px;\n",
              "    padding: 0;\n",
              "    width: 32px;\n",
              "  }\n",
              "\n",
              "  .colab-df-quickchart:hover {\n",
              "    background-color: var(--hover-bg-color);\n",
              "    box-shadow: 0 1px 2px rgba(60, 64, 67, 0.3), 0 1px 3px 1px rgba(60, 64, 67, 0.15);\n",
              "    fill: var(--button-hover-fill-color);\n",
              "  }\n",
              "\n",
              "  .colab-df-quickchart-complete:disabled,\n",
              "  .colab-df-quickchart-complete:disabled:hover {\n",
              "    background-color: var(--disabled-bg-color);\n",
              "    fill: var(--disabled-fill-color);\n",
              "    box-shadow: none;\n",
              "  }\n",
              "\n",
              "  .colab-df-spinner {\n",
              "    border: 2px solid var(--fill-color);\n",
              "    border-color: transparent;\n",
              "    border-bottom-color: var(--fill-color);\n",
              "    animation:\n",
              "      spin 1s steps(1) infinite;\n",
              "  }\n",
              "\n",
              "  @keyframes spin {\n",
              "    0% {\n",
              "      border-color: transparent;\n",
              "      border-bottom-color: var(--fill-color);\n",
              "      border-left-color: var(--fill-color);\n",
              "    }\n",
              "    20% {\n",
              "      border-color: transparent;\n",
              "      border-left-color: var(--fill-color);\n",
              "      border-top-color: var(--fill-color);\n",
              "    }\n",
              "    30% {\n",
              "      border-color: transparent;\n",
              "      border-left-color: var(--fill-color);\n",
              "      border-top-color: var(--fill-color);\n",
              "      border-right-color: var(--fill-color);\n",
              "    }\n",
              "    40% {\n",
              "      border-color: transparent;\n",
              "      border-right-color: var(--fill-color);\n",
              "      border-top-color: var(--fill-color);\n",
              "    }\n",
              "    60% {\n",
              "      border-color: transparent;\n",
              "      border-right-color: var(--fill-color);\n",
              "    }\n",
              "    80% {\n",
              "      border-color: transparent;\n",
              "      border-right-color: var(--fill-color);\n",
              "      border-bottom-color: var(--fill-color);\n",
              "    }\n",
              "    90% {\n",
              "      border-color: transparent;\n",
              "      border-bottom-color: var(--fill-color);\n",
              "    }\n",
              "  }\n",
              "</style>\n",
              "\n",
              "      <script>\n",
              "        async function quickchart(key) {\n",
              "          const quickchartButtonEl =\n",
              "            document.querySelector('#' + key + ' button');\n",
              "          quickchartButtonEl.disabled = true;  // To prevent multiple clicks.\n",
              "          quickchartButtonEl.classList.add('colab-df-spinner');\n",
              "          try {\n",
              "            const charts = await google.colab.kernel.invokeFunction(\n",
              "                'suggestCharts', [key], {});\n",
              "          } catch (error) {\n",
              "            console.error('Error during call to suggestCharts:', error);\n",
              "          }\n",
              "          quickchartButtonEl.classList.remove('colab-df-spinner');\n",
              "          quickchartButtonEl.classList.add('colab-df-quickchart-complete');\n",
              "        }\n",
              "        (() => {\n",
              "          let quickchartButtonEl =\n",
              "            document.querySelector('#df-23b6ba17-8306-4bb1-be8c-880e84734b23 button');\n",
              "          quickchartButtonEl.style.display =\n",
              "            google.colab.kernel.accessAllowed ? 'block' : 'none';\n",
              "        })();\n",
              "      </script>\n",
              "    </div>\n",
              "\n",
              "    </div>\n",
              "  </div>\n"
            ],
            "application/vnd.google.colaboratory.intrinsic+json": {
              "type": "dataframe",
              "summary": "{\n  \"name\": \"df_clean[['Quantity', 'UnitPrice', 'TotalPrice']]\",\n  \"rows\": 5,\n  \"fields\": [\n    {\n      \"column\": \"Quantity\",\n      \"properties\": {\n        \"dtype\": \"number\",\n        \"std\": 0,\n        \"min\": 6,\n        \"max\": 8,\n        \"num_unique_values\": 2,\n        \"samples\": [\n          8,\n          6\n        ],\n        \"semantic_type\": \"\",\n        \"description\": \"\"\n      }\n    },\n    {\n      \"column\": \"UnitPrice\",\n      \"properties\": {\n        \"dtype\": \"number\",\n        \"std\": 0.41143650785996144,\n        \"min\": 2.55,\n        \"max\": 3.39,\n        \"num_unique_values\": 3,\n        \"samples\": [\n          2.55,\n          3.39\n        ],\n        \"semantic_type\": \"\",\n        \"description\": \"\"\n      }\n    },\n    {\n      \"column\": \"TotalPrice\",\n      \"properties\": {\n        \"dtype\": \"number\",\n        \"std\": 2.543242025447048,\n        \"min\": 15.299999999999999,\n        \"max\": 22.0,\n        \"num_unique_values\": 3,\n        \"samples\": [\n          15.299999999999999,\n          20.34\n        ],\n        \"semantic_type\": \"\",\n        \"description\": \"\"\n      }\n    }\n  ]\n}"
            }
          },
          "metadata": {},
          "execution_count": 16
        }
      ]
    },
    {
      "cell_type": "markdown",
      "source": [
        "**Menambahkan Fitur Baru: TotalPrice**\n",
        "\n",
        "Fitur `TotalPrice` dihitung dari hasil perkalian antara `Quantity` dan `UnitPrice`. Fitur ini penting untuk mengetahui total nilai transaksi dari setiap item yang dibeli oleh pelanggan, yang nantinya dapat digunakan untuk analisis dan sistem rekomendasi.\n"
      ],
      "metadata": {
        "id": "p3L2M4LX6QAc"
      }
    },
    {
      "cell_type": "markdown",
      "source": [
        "# DATA PREPARATION"
      ],
      "metadata": {
        "id": "2mwRxnoNQxE3"
      }
    },
    {
      "cell_type": "markdown",
      "source": [
        "**Data Preparation**\n",
        "\n",
        "Setelah data dibersihkan, langkah selanjutnya adalah mempersiapkan data untuk digunakan dalam dua pendekatan sistem rekomendasi:\n",
        "\n",
        "- **Content-Based Filtering**, yang menggunakan deskripsi produk sebagai fitur utama.\n",
        "- **Collaborative Filtering**, yang menggunakan interaksi historis antara pengguna dan produk.\n",
        "\n",
        "Berikut adalah langkah-langkah yang dilakukan:\n",
        "1. Encoding kolom `CustomerID` dan `Description`.\n",
        "2. Menggunakan TF-IDF untuk memproses teks deskripsi produk.\n",
        "3. Membuat interaction matrix antara pelanggan dan produk.\n",
        "4. Split data untuk pelatihan dan evaluasi model.\n"
      ],
      "metadata": {
        "id": "T0lyZ9wa6yMf"
      }
    },
    {
      "cell_type": "markdown",
      "source": [
        "## LABEL ENCODING"
      ],
      "metadata": {
        "id": "zNLiQJn-6_Un"
      }
    },
    {
      "cell_type": "code",
      "source": [
        "from sklearn.preprocessing import LabelEncoder\n",
        "\n",
        "# Label encoding untuk CustomerID\n",
        "user_encoder = LabelEncoder()\n",
        "df_clean['CustomerIdx'] = user_encoder.fit_transform(df_clean['CustomerID'])\n",
        "\n",
        "# Label encoding untuk Description\n",
        "product_encoder = LabelEncoder()\n",
        "df_clean['ProductIdx'] = product_encoder.fit_transform(df_clean['Description'])\n",
        "\n",
        "# Tampilkan hasil encode\n",
        "df_clean[['CustomerID', 'CustomerIdx', 'Description', 'ProductIdx']].head()"
      ],
      "metadata": {
        "id": "XrWgv6M4R3V9",
        "colab": {
          "base_uri": "https://localhost:8080/",
          "height": 206
        },
        "outputId": "f320a59c-7368-4797-a965-e234aa3c17fa"
      },
      "execution_count": 17,
      "outputs": [
        {
          "output_type": "execute_result",
          "data": {
            "text/plain": [
              "   CustomerID  CustomerIdx                          Description  ProductIdx\n",
              "0     17850.0         4016   WHITE HANGING HEART T-LIGHT HOLDER        3698\n",
              "1     17850.0         4016                  WHITE METAL LANTERN        3706\n",
              "2     17850.0         4016       CREAM CUPID HEARTS COAT HANGER         858\n",
              "3     17850.0         4016  KNITTED UNION FLAG HOT WATER BOTTLE        1804\n",
              "4     17850.0         4016       RED WOOLLY HOTTIE WHITE HEART.        2763"
            ],
            "text/html": [
              "\n",
              "  <div id=\"df-618326aa-aede-4f12-9e2e-ba061966b9df\" class=\"colab-df-container\">\n",
              "    <div>\n",
              "<style scoped>\n",
              "    .dataframe tbody tr th:only-of-type {\n",
              "        vertical-align: middle;\n",
              "    }\n",
              "\n",
              "    .dataframe tbody tr th {\n",
              "        vertical-align: top;\n",
              "    }\n",
              "\n",
              "    .dataframe thead th {\n",
              "        text-align: right;\n",
              "    }\n",
              "</style>\n",
              "<table border=\"1\" class=\"dataframe\">\n",
              "  <thead>\n",
              "    <tr style=\"text-align: right;\">\n",
              "      <th></th>\n",
              "      <th>CustomerID</th>\n",
              "      <th>CustomerIdx</th>\n",
              "      <th>Description</th>\n",
              "      <th>ProductIdx</th>\n",
              "    </tr>\n",
              "  </thead>\n",
              "  <tbody>\n",
              "    <tr>\n",
              "      <th>0</th>\n",
              "      <td>17850.0</td>\n",
              "      <td>4016</td>\n",
              "      <td>WHITE HANGING HEART T-LIGHT HOLDER</td>\n",
              "      <td>3698</td>\n",
              "    </tr>\n",
              "    <tr>\n",
              "      <th>1</th>\n",
              "      <td>17850.0</td>\n",
              "      <td>4016</td>\n",
              "      <td>WHITE METAL LANTERN</td>\n",
              "      <td>3706</td>\n",
              "    </tr>\n",
              "    <tr>\n",
              "      <th>2</th>\n",
              "      <td>17850.0</td>\n",
              "      <td>4016</td>\n",
              "      <td>CREAM CUPID HEARTS COAT HANGER</td>\n",
              "      <td>858</td>\n",
              "    </tr>\n",
              "    <tr>\n",
              "      <th>3</th>\n",
              "      <td>17850.0</td>\n",
              "      <td>4016</td>\n",
              "      <td>KNITTED UNION FLAG HOT WATER BOTTLE</td>\n",
              "      <td>1804</td>\n",
              "    </tr>\n",
              "    <tr>\n",
              "      <th>4</th>\n",
              "      <td>17850.0</td>\n",
              "      <td>4016</td>\n",
              "      <td>RED WOOLLY HOTTIE WHITE HEART.</td>\n",
              "      <td>2763</td>\n",
              "    </tr>\n",
              "  </tbody>\n",
              "</table>\n",
              "</div>\n",
              "    <div class=\"colab-df-buttons\">\n",
              "\n",
              "  <div class=\"colab-df-container\">\n",
              "    <button class=\"colab-df-convert\" onclick=\"convertToInteractive('df-618326aa-aede-4f12-9e2e-ba061966b9df')\"\n",
              "            title=\"Convert this dataframe to an interactive table.\"\n",
              "            style=\"display:none;\">\n",
              "\n",
              "  <svg xmlns=\"http://www.w3.org/2000/svg\" height=\"24px\" viewBox=\"0 -960 960 960\">\n",
              "    <path d=\"M120-120v-720h720v720H120Zm60-500h600v-160H180v160Zm220 220h160v-160H400v160Zm0 220h160v-160H400v160ZM180-400h160v-160H180v160Zm440 0h160v-160H620v160ZM180-180h160v-160H180v160Zm440 0h160v-160H620v160Z\"/>\n",
              "  </svg>\n",
              "    </button>\n",
              "\n",
              "  <style>\n",
              "    .colab-df-container {\n",
              "      display:flex;\n",
              "      gap: 12px;\n",
              "    }\n",
              "\n",
              "    .colab-df-convert {\n",
              "      background-color: #E8F0FE;\n",
              "      border: none;\n",
              "      border-radius: 50%;\n",
              "      cursor: pointer;\n",
              "      display: none;\n",
              "      fill: #1967D2;\n",
              "      height: 32px;\n",
              "      padding: 0 0 0 0;\n",
              "      width: 32px;\n",
              "    }\n",
              "\n",
              "    .colab-df-convert:hover {\n",
              "      background-color: #E2EBFA;\n",
              "      box-shadow: 0px 1px 2px rgba(60, 64, 67, 0.3), 0px 1px 3px 1px rgba(60, 64, 67, 0.15);\n",
              "      fill: #174EA6;\n",
              "    }\n",
              "\n",
              "    .colab-df-buttons div {\n",
              "      margin-bottom: 4px;\n",
              "    }\n",
              "\n",
              "    [theme=dark] .colab-df-convert {\n",
              "      background-color: #3B4455;\n",
              "      fill: #D2E3FC;\n",
              "    }\n",
              "\n",
              "    [theme=dark] .colab-df-convert:hover {\n",
              "      background-color: #434B5C;\n",
              "      box-shadow: 0px 1px 3px 1px rgba(0, 0, 0, 0.15);\n",
              "      filter: drop-shadow(0px 1px 2px rgba(0, 0, 0, 0.3));\n",
              "      fill: #FFFFFF;\n",
              "    }\n",
              "  </style>\n",
              "\n",
              "    <script>\n",
              "      const buttonEl =\n",
              "        document.querySelector('#df-618326aa-aede-4f12-9e2e-ba061966b9df button.colab-df-convert');\n",
              "      buttonEl.style.display =\n",
              "        google.colab.kernel.accessAllowed ? 'block' : 'none';\n",
              "\n",
              "      async function convertToInteractive(key) {\n",
              "        const element = document.querySelector('#df-618326aa-aede-4f12-9e2e-ba061966b9df');\n",
              "        const dataTable =\n",
              "          await google.colab.kernel.invokeFunction('convertToInteractive',\n",
              "                                                    [key], {});\n",
              "        if (!dataTable) return;\n",
              "\n",
              "        const docLinkHtml = 'Like what you see? Visit the ' +\n",
              "          '<a target=\"_blank\" href=https://colab.research.google.com/notebooks/data_table.ipynb>data table notebook</a>'\n",
              "          + ' to learn more about interactive tables.';\n",
              "        element.innerHTML = '';\n",
              "        dataTable['output_type'] = 'display_data';\n",
              "        await google.colab.output.renderOutput(dataTable, element);\n",
              "        const docLink = document.createElement('div');\n",
              "        docLink.innerHTML = docLinkHtml;\n",
              "        element.appendChild(docLink);\n",
              "      }\n",
              "    </script>\n",
              "  </div>\n",
              "\n",
              "\n",
              "    <div id=\"df-84d74cdf-419f-4435-91a3-44980df025b3\">\n",
              "      <button class=\"colab-df-quickchart\" onclick=\"quickchart('df-84d74cdf-419f-4435-91a3-44980df025b3')\"\n",
              "                title=\"Suggest charts\"\n",
              "                style=\"display:none;\">\n",
              "\n",
              "<svg xmlns=\"http://www.w3.org/2000/svg\" height=\"24px\"viewBox=\"0 0 24 24\"\n",
              "     width=\"24px\">\n",
              "    <g>\n",
              "        <path d=\"M19 3H5c-1.1 0-2 .9-2 2v14c0 1.1.9 2 2 2h14c1.1 0 2-.9 2-2V5c0-1.1-.9-2-2-2zM9 17H7v-7h2v7zm4 0h-2V7h2v10zm4 0h-2v-4h2v4z\"/>\n",
              "    </g>\n",
              "</svg>\n",
              "      </button>\n",
              "\n",
              "<style>\n",
              "  .colab-df-quickchart {\n",
              "      --bg-color: #E8F0FE;\n",
              "      --fill-color: #1967D2;\n",
              "      --hover-bg-color: #E2EBFA;\n",
              "      --hover-fill-color: #174EA6;\n",
              "      --disabled-fill-color: #AAA;\n",
              "      --disabled-bg-color: #DDD;\n",
              "  }\n",
              "\n",
              "  [theme=dark] .colab-df-quickchart {\n",
              "      --bg-color: #3B4455;\n",
              "      --fill-color: #D2E3FC;\n",
              "      --hover-bg-color: #434B5C;\n",
              "      --hover-fill-color: #FFFFFF;\n",
              "      --disabled-bg-color: #3B4455;\n",
              "      --disabled-fill-color: #666;\n",
              "  }\n",
              "\n",
              "  .colab-df-quickchart {\n",
              "    background-color: var(--bg-color);\n",
              "    border: none;\n",
              "    border-radius: 50%;\n",
              "    cursor: pointer;\n",
              "    display: none;\n",
              "    fill: var(--fill-color);\n",
              "    height: 32px;\n",
              "    padding: 0;\n",
              "    width: 32px;\n",
              "  }\n",
              "\n",
              "  .colab-df-quickchart:hover {\n",
              "    background-color: var(--hover-bg-color);\n",
              "    box-shadow: 0 1px 2px rgba(60, 64, 67, 0.3), 0 1px 3px 1px rgba(60, 64, 67, 0.15);\n",
              "    fill: var(--button-hover-fill-color);\n",
              "  }\n",
              "\n",
              "  .colab-df-quickchart-complete:disabled,\n",
              "  .colab-df-quickchart-complete:disabled:hover {\n",
              "    background-color: var(--disabled-bg-color);\n",
              "    fill: var(--disabled-fill-color);\n",
              "    box-shadow: none;\n",
              "  }\n",
              "\n",
              "  .colab-df-spinner {\n",
              "    border: 2px solid var(--fill-color);\n",
              "    border-color: transparent;\n",
              "    border-bottom-color: var(--fill-color);\n",
              "    animation:\n",
              "      spin 1s steps(1) infinite;\n",
              "  }\n",
              "\n",
              "  @keyframes spin {\n",
              "    0% {\n",
              "      border-color: transparent;\n",
              "      border-bottom-color: var(--fill-color);\n",
              "      border-left-color: var(--fill-color);\n",
              "    }\n",
              "    20% {\n",
              "      border-color: transparent;\n",
              "      border-left-color: var(--fill-color);\n",
              "      border-top-color: var(--fill-color);\n",
              "    }\n",
              "    30% {\n",
              "      border-color: transparent;\n",
              "      border-left-color: var(--fill-color);\n",
              "      border-top-color: var(--fill-color);\n",
              "      border-right-color: var(--fill-color);\n",
              "    }\n",
              "    40% {\n",
              "      border-color: transparent;\n",
              "      border-right-color: var(--fill-color);\n",
              "      border-top-color: var(--fill-color);\n",
              "    }\n",
              "    60% {\n",
              "      border-color: transparent;\n",
              "      border-right-color: var(--fill-color);\n",
              "    }\n",
              "    80% {\n",
              "      border-color: transparent;\n",
              "      border-right-color: var(--fill-color);\n",
              "      border-bottom-color: var(--fill-color);\n",
              "    }\n",
              "    90% {\n",
              "      border-color: transparent;\n",
              "      border-bottom-color: var(--fill-color);\n",
              "    }\n",
              "  }\n",
              "</style>\n",
              "\n",
              "      <script>\n",
              "        async function quickchart(key) {\n",
              "          const quickchartButtonEl =\n",
              "            document.querySelector('#' + key + ' button');\n",
              "          quickchartButtonEl.disabled = true;  // To prevent multiple clicks.\n",
              "          quickchartButtonEl.classList.add('colab-df-spinner');\n",
              "          try {\n",
              "            const charts = await google.colab.kernel.invokeFunction(\n",
              "                'suggestCharts', [key], {});\n",
              "          } catch (error) {\n",
              "            console.error('Error during call to suggestCharts:', error);\n",
              "          }\n",
              "          quickchartButtonEl.classList.remove('colab-df-spinner');\n",
              "          quickchartButtonEl.classList.add('colab-df-quickchart-complete');\n",
              "        }\n",
              "        (() => {\n",
              "          let quickchartButtonEl =\n",
              "            document.querySelector('#df-84d74cdf-419f-4435-91a3-44980df025b3 button');\n",
              "          quickchartButtonEl.style.display =\n",
              "            google.colab.kernel.accessAllowed ? 'block' : 'none';\n",
              "        })();\n",
              "      </script>\n",
              "    </div>\n",
              "\n",
              "    </div>\n",
              "  </div>\n"
            ],
            "application/vnd.google.colaboratory.intrinsic+json": {
              "type": "dataframe",
              "summary": "{\n  \"name\": \"df_clean[['CustomerID', 'CustomerIdx', 'Description', 'ProductIdx']]\",\n  \"rows\": 5,\n  \"fields\": [\n    {\n      \"column\": \"CustomerID\",\n      \"properties\": {\n        \"dtype\": \"number\",\n        \"std\": 0.0,\n        \"min\": 17850.0,\n        \"max\": 17850.0,\n        \"num_unique_values\": 1,\n        \"samples\": [\n          17850.0\n        ],\n        \"semantic_type\": \"\",\n        \"description\": \"\"\n      }\n    },\n    {\n      \"column\": \"CustomerIdx\",\n      \"properties\": {\n        \"dtype\": \"number\",\n        \"std\": 0,\n        \"min\": 4016,\n        \"max\": 4016,\n        \"num_unique_values\": 1,\n        \"samples\": [\n          4016\n        ],\n        \"semantic_type\": \"\",\n        \"description\": \"\"\n      }\n    },\n    {\n      \"column\": \"Description\",\n      \"properties\": {\n        \"dtype\": \"string\",\n        \"num_unique_values\": 5,\n        \"samples\": [\n          \"WHITE METAL LANTERN\"\n        ],\n        \"semantic_type\": \"\",\n        \"description\": \"\"\n      }\n    },\n    {\n      \"column\": \"ProductIdx\",\n      \"properties\": {\n        \"dtype\": \"number\",\n        \"std\": 1236,\n        \"min\": 858,\n        \"max\": 3706,\n        \"num_unique_values\": 5,\n        \"samples\": [\n          3706\n        ],\n        \"semantic_type\": \"\",\n        \"description\": \"\"\n      }\n    }\n  ]\n}"
            }
          },
          "metadata": {},
          "execution_count": 17
        }
      ]
    },
    {
      "cell_type": "markdown",
      "source": [
        "**Encoding ID Pengguna dan Produk**\n",
        "\n",
        "Untuk memudahkan pemrosesan data dalam model machine learning, kolom `CustomerID` dan `Description` diubah menjadi angka dengan Label Encoding. Hasilnya disimpan ke dalam kolom `CustomerIdx` dan `ProductIdx`.\n"
      ],
      "metadata": {
        "id": "IcYpzW_17DVR"
      }
    },
    {
      "cell_type": "markdown",
      "source": [
        "## TF-IDF\n",
        "\n"
      ],
      "metadata": {
        "id": "VSA-6NDpaqx5"
      }
    },
    {
      "cell_type": "code",
      "source": [
        "from sklearn.feature_extraction.text import TfidfVectorizer\n",
        "\n",
        "# TF-IDF untuk deskripsi produk\n",
        "tfidf = TfidfVectorizer(stop_words='english')\n",
        "tfidf_matrix = tfidf.fit_transform(df_clean['Description'])\n",
        "\n",
        "# Menampilkan bentuk matriks TF-IDF\n",
        "print(f\"TF-IDF matrix shape: {tfidf_matrix.shape}\")"
      ],
      "metadata": {
        "id": "Cdgy21z7R9IH",
        "colab": {
          "base_uri": "https://localhost:8080/"
        },
        "outputId": "c4d6cd3a-bb5a-429f-c826-ebe953df7025"
      },
      "execution_count": 18,
      "outputs": [
        {
          "output_type": "stream",
          "name": "stdout",
          "text": [
            "TF-IDF matrix shape: (397884, 1971)\n"
          ]
        }
      ]
    },
    {
      "cell_type": "markdown",
      "source": [
        "**Membuat Representasi Fitur Deskripsi Produk**\n",
        "\n",
        "TF-IDF digunakan untuk mengubah teks pada kolom `Description` menjadi vektor numerik yang bisa dibandingkan menggunakan cosine similarity. Teknik ini penting untuk model Content-Based Filtering.\n"
      ],
      "metadata": {
        "id": "n9TSguALapl5"
      }
    },
    {
      "cell_type": "code",
      "source": [
        "# Membuat dataframe interaksi untuk Collaborative Filtering\n",
        "interaction_df = df_clean.groupby(['CustomerIdx', 'ProductIdx'])['Quantity'].sum().reset_index()\n",
        "\n",
        "# Lihat hasil agregasi interaksi\n",
        "interaction_df.head()\n"
      ],
      "metadata": {
        "id": "h4oPHk28awN4",
        "colab": {
          "base_uri": "https://localhost:8080/",
          "height": 206
        },
        "outputId": "a7df2452-2393-4734-d318-4be33c4c7788"
      },
      "execution_count": 19,
      "outputs": [
        {
          "output_type": "execute_result",
          "data": {
            "text/plain": [
              "   CustomerIdx  ProductIdx  Quantity\n",
              "0            0        1992     74215\n",
              "1            1          70       126\n",
              "2            1          72        12\n",
              "3            1          73        12\n",
              "4            1         109        72"
            ],
            "text/html": [
              "\n",
              "  <div id=\"df-aa00ad33-69c7-43fa-bc26-486167586ad7\" class=\"colab-df-container\">\n",
              "    <div>\n",
              "<style scoped>\n",
              "    .dataframe tbody tr th:only-of-type {\n",
              "        vertical-align: middle;\n",
              "    }\n",
              "\n",
              "    .dataframe tbody tr th {\n",
              "        vertical-align: top;\n",
              "    }\n",
              "\n",
              "    .dataframe thead th {\n",
              "        text-align: right;\n",
              "    }\n",
              "</style>\n",
              "<table border=\"1\" class=\"dataframe\">\n",
              "  <thead>\n",
              "    <tr style=\"text-align: right;\">\n",
              "      <th></th>\n",
              "      <th>CustomerIdx</th>\n",
              "      <th>ProductIdx</th>\n",
              "      <th>Quantity</th>\n",
              "    </tr>\n",
              "  </thead>\n",
              "  <tbody>\n",
              "    <tr>\n",
              "      <th>0</th>\n",
              "      <td>0</td>\n",
              "      <td>1992</td>\n",
              "      <td>74215</td>\n",
              "    </tr>\n",
              "    <tr>\n",
              "      <th>1</th>\n",
              "      <td>1</td>\n",
              "      <td>70</td>\n",
              "      <td>126</td>\n",
              "    </tr>\n",
              "    <tr>\n",
              "      <th>2</th>\n",
              "      <td>1</td>\n",
              "      <td>72</td>\n",
              "      <td>12</td>\n",
              "    </tr>\n",
              "    <tr>\n",
              "      <th>3</th>\n",
              "      <td>1</td>\n",
              "      <td>73</td>\n",
              "      <td>12</td>\n",
              "    </tr>\n",
              "    <tr>\n",
              "      <th>4</th>\n",
              "      <td>1</td>\n",
              "      <td>109</td>\n",
              "      <td>72</td>\n",
              "    </tr>\n",
              "  </tbody>\n",
              "</table>\n",
              "</div>\n",
              "    <div class=\"colab-df-buttons\">\n",
              "\n",
              "  <div class=\"colab-df-container\">\n",
              "    <button class=\"colab-df-convert\" onclick=\"convertToInteractive('df-aa00ad33-69c7-43fa-bc26-486167586ad7')\"\n",
              "            title=\"Convert this dataframe to an interactive table.\"\n",
              "            style=\"display:none;\">\n",
              "\n",
              "  <svg xmlns=\"http://www.w3.org/2000/svg\" height=\"24px\" viewBox=\"0 -960 960 960\">\n",
              "    <path d=\"M120-120v-720h720v720H120Zm60-500h600v-160H180v160Zm220 220h160v-160H400v160Zm0 220h160v-160H400v160ZM180-400h160v-160H180v160Zm440 0h160v-160H620v160ZM180-180h160v-160H180v160Zm440 0h160v-160H620v160Z\"/>\n",
              "  </svg>\n",
              "    </button>\n",
              "\n",
              "  <style>\n",
              "    .colab-df-container {\n",
              "      display:flex;\n",
              "      gap: 12px;\n",
              "    }\n",
              "\n",
              "    .colab-df-convert {\n",
              "      background-color: #E8F0FE;\n",
              "      border: none;\n",
              "      border-radius: 50%;\n",
              "      cursor: pointer;\n",
              "      display: none;\n",
              "      fill: #1967D2;\n",
              "      height: 32px;\n",
              "      padding: 0 0 0 0;\n",
              "      width: 32px;\n",
              "    }\n",
              "\n",
              "    .colab-df-convert:hover {\n",
              "      background-color: #E2EBFA;\n",
              "      box-shadow: 0px 1px 2px rgba(60, 64, 67, 0.3), 0px 1px 3px 1px rgba(60, 64, 67, 0.15);\n",
              "      fill: #174EA6;\n",
              "    }\n",
              "\n",
              "    .colab-df-buttons div {\n",
              "      margin-bottom: 4px;\n",
              "    }\n",
              "\n",
              "    [theme=dark] .colab-df-convert {\n",
              "      background-color: #3B4455;\n",
              "      fill: #D2E3FC;\n",
              "    }\n",
              "\n",
              "    [theme=dark] .colab-df-convert:hover {\n",
              "      background-color: #434B5C;\n",
              "      box-shadow: 0px 1px 3px 1px rgba(0, 0, 0, 0.15);\n",
              "      filter: drop-shadow(0px 1px 2px rgba(0, 0, 0, 0.3));\n",
              "      fill: #FFFFFF;\n",
              "    }\n",
              "  </style>\n",
              "\n",
              "    <script>\n",
              "      const buttonEl =\n",
              "        document.querySelector('#df-aa00ad33-69c7-43fa-bc26-486167586ad7 button.colab-df-convert');\n",
              "      buttonEl.style.display =\n",
              "        google.colab.kernel.accessAllowed ? 'block' : 'none';\n",
              "\n",
              "      async function convertToInteractive(key) {\n",
              "        const element = document.querySelector('#df-aa00ad33-69c7-43fa-bc26-486167586ad7');\n",
              "        const dataTable =\n",
              "          await google.colab.kernel.invokeFunction('convertToInteractive',\n",
              "                                                    [key], {});\n",
              "        if (!dataTable) return;\n",
              "\n",
              "        const docLinkHtml = 'Like what you see? Visit the ' +\n",
              "          '<a target=\"_blank\" href=https://colab.research.google.com/notebooks/data_table.ipynb>data table notebook</a>'\n",
              "          + ' to learn more about interactive tables.';\n",
              "        element.innerHTML = '';\n",
              "        dataTable['output_type'] = 'display_data';\n",
              "        await google.colab.output.renderOutput(dataTable, element);\n",
              "        const docLink = document.createElement('div');\n",
              "        docLink.innerHTML = docLinkHtml;\n",
              "        element.appendChild(docLink);\n",
              "      }\n",
              "    </script>\n",
              "  </div>\n",
              "\n",
              "\n",
              "    <div id=\"df-45e96aa2-a632-45bf-9ba5-31511687d07b\">\n",
              "      <button class=\"colab-df-quickchart\" onclick=\"quickchart('df-45e96aa2-a632-45bf-9ba5-31511687d07b')\"\n",
              "                title=\"Suggest charts\"\n",
              "                style=\"display:none;\">\n",
              "\n",
              "<svg xmlns=\"http://www.w3.org/2000/svg\" height=\"24px\"viewBox=\"0 0 24 24\"\n",
              "     width=\"24px\">\n",
              "    <g>\n",
              "        <path d=\"M19 3H5c-1.1 0-2 .9-2 2v14c0 1.1.9 2 2 2h14c1.1 0 2-.9 2-2V5c0-1.1-.9-2-2-2zM9 17H7v-7h2v7zm4 0h-2V7h2v10zm4 0h-2v-4h2v4z\"/>\n",
              "    </g>\n",
              "</svg>\n",
              "      </button>\n",
              "\n",
              "<style>\n",
              "  .colab-df-quickchart {\n",
              "      --bg-color: #E8F0FE;\n",
              "      --fill-color: #1967D2;\n",
              "      --hover-bg-color: #E2EBFA;\n",
              "      --hover-fill-color: #174EA6;\n",
              "      --disabled-fill-color: #AAA;\n",
              "      --disabled-bg-color: #DDD;\n",
              "  }\n",
              "\n",
              "  [theme=dark] .colab-df-quickchart {\n",
              "      --bg-color: #3B4455;\n",
              "      --fill-color: #D2E3FC;\n",
              "      --hover-bg-color: #434B5C;\n",
              "      --hover-fill-color: #FFFFFF;\n",
              "      --disabled-bg-color: #3B4455;\n",
              "      --disabled-fill-color: #666;\n",
              "  }\n",
              "\n",
              "  .colab-df-quickchart {\n",
              "    background-color: var(--bg-color);\n",
              "    border: none;\n",
              "    border-radius: 50%;\n",
              "    cursor: pointer;\n",
              "    display: none;\n",
              "    fill: var(--fill-color);\n",
              "    height: 32px;\n",
              "    padding: 0;\n",
              "    width: 32px;\n",
              "  }\n",
              "\n",
              "  .colab-df-quickchart:hover {\n",
              "    background-color: var(--hover-bg-color);\n",
              "    box-shadow: 0 1px 2px rgba(60, 64, 67, 0.3), 0 1px 3px 1px rgba(60, 64, 67, 0.15);\n",
              "    fill: var(--button-hover-fill-color);\n",
              "  }\n",
              "\n",
              "  .colab-df-quickchart-complete:disabled,\n",
              "  .colab-df-quickchart-complete:disabled:hover {\n",
              "    background-color: var(--disabled-bg-color);\n",
              "    fill: var(--disabled-fill-color);\n",
              "    box-shadow: none;\n",
              "  }\n",
              "\n",
              "  .colab-df-spinner {\n",
              "    border: 2px solid var(--fill-color);\n",
              "    border-color: transparent;\n",
              "    border-bottom-color: var(--fill-color);\n",
              "    animation:\n",
              "      spin 1s steps(1) infinite;\n",
              "  }\n",
              "\n",
              "  @keyframes spin {\n",
              "    0% {\n",
              "      border-color: transparent;\n",
              "      border-bottom-color: var(--fill-color);\n",
              "      border-left-color: var(--fill-color);\n",
              "    }\n",
              "    20% {\n",
              "      border-color: transparent;\n",
              "      border-left-color: var(--fill-color);\n",
              "      border-top-color: var(--fill-color);\n",
              "    }\n",
              "    30% {\n",
              "      border-color: transparent;\n",
              "      border-left-color: var(--fill-color);\n",
              "      border-top-color: var(--fill-color);\n",
              "      border-right-color: var(--fill-color);\n",
              "    }\n",
              "    40% {\n",
              "      border-color: transparent;\n",
              "      border-right-color: var(--fill-color);\n",
              "      border-top-color: var(--fill-color);\n",
              "    }\n",
              "    60% {\n",
              "      border-color: transparent;\n",
              "      border-right-color: var(--fill-color);\n",
              "    }\n",
              "    80% {\n",
              "      border-color: transparent;\n",
              "      border-right-color: var(--fill-color);\n",
              "      border-bottom-color: var(--fill-color);\n",
              "    }\n",
              "    90% {\n",
              "      border-color: transparent;\n",
              "      border-bottom-color: var(--fill-color);\n",
              "    }\n",
              "  }\n",
              "</style>\n",
              "\n",
              "      <script>\n",
              "        async function quickchart(key) {\n",
              "          const quickchartButtonEl =\n",
              "            document.querySelector('#' + key + ' button');\n",
              "          quickchartButtonEl.disabled = true;  // To prevent multiple clicks.\n",
              "          quickchartButtonEl.classList.add('colab-df-spinner');\n",
              "          try {\n",
              "            const charts = await google.colab.kernel.invokeFunction(\n",
              "                'suggestCharts', [key], {});\n",
              "          } catch (error) {\n",
              "            console.error('Error during call to suggestCharts:', error);\n",
              "          }\n",
              "          quickchartButtonEl.classList.remove('colab-df-spinner');\n",
              "          quickchartButtonEl.classList.add('colab-df-quickchart-complete');\n",
              "        }\n",
              "        (() => {\n",
              "          let quickchartButtonEl =\n",
              "            document.querySelector('#df-45e96aa2-a632-45bf-9ba5-31511687d07b button');\n",
              "          quickchartButtonEl.style.display =\n",
              "            google.colab.kernel.accessAllowed ? 'block' : 'none';\n",
              "        })();\n",
              "      </script>\n",
              "    </div>\n",
              "\n",
              "    </div>\n",
              "  </div>\n"
            ],
            "application/vnd.google.colaboratory.intrinsic+json": {
              "type": "dataframe",
              "variable_name": "interaction_df"
            }
          },
          "metadata": {},
          "execution_count": 19
        }
      ]
    },
    {
      "cell_type": "markdown",
      "source": [
        "**Membuat Dataframe Interaksi Pelanggan-Produk**\n",
        "\n",
        "Untuk model Collaborative Filtering, dibutuhkan data interaksi antara pengguna dan produk. Di sini, interaksi didefinisikan sebagai jumlah `Quantity` produk yang dibeli oleh setiap pelanggan.\n"
      ],
      "metadata": {
        "id": "yhYBOAcua11q"
      }
    },
    {
      "cell_type": "code",
      "source": [
        "from sklearn.model_selection import train_test_split\n",
        "\n",
        "# Membagi data interaksi menjadi training dan test\n",
        "train_data, test_data = train_test_split(interaction_df, test_size=0.2, random_state=42)\n",
        "\n",
        "print(f\"Jumlah data train: {len(train_data)}\")\n",
        "print(f\"Jumlah data test: {len(test_data)}\")"
      ],
      "metadata": {
        "id": "7f1_656Wa7FT",
        "colab": {
          "base_uri": "https://localhost:8080/"
        },
        "outputId": "28141b45-e373-4a80-bc67-6aff50f8a7e8"
      },
      "execution_count": 20,
      "outputs": [
        {
          "output_type": "stream",
          "name": "stdout",
          "text": [
            "Jumlah data train: 214628\n",
            "Jumlah data test: 53657\n"
          ]
        }
      ]
    },
    {
      "cell_type": "markdown",
      "source": [
        "**Membagi Data Interaksi untuk Training dan Evaluasi**\n",
        "\n",
        "Data interaksi dibagi menjadi dua bagian: data pelatihan dan data pengujian. Pembagian ini bertujuan untuk mengevaluasi performa model Collaborative Filtering menggunakan metrik seperti RMSE dan Precision@K.\n"
      ],
      "metadata": {
        "id": "l7mvVJT2a5fw"
      }
    },
    {
      "cell_type": "markdown",
      "source": [
        "# MODELLING"
      ],
      "metadata": {
        "id": "pjhenAavSN_c"
      }
    },
    {
      "cell_type": "markdown",
      "source": [
        "**Modeling**\n",
        "\n",
        "Pada tahap ini akan membangun dua pendekatan sistem rekomendasi:\n",
        "\n",
        "1. **Content-Based Filtering**: Menganalisis kesamaan antar produk berdasarkan fitur deskripsi teks menggunakan TF-IDF dan cosine similarity.\n",
        "2. **Collaborative Filtering**: Memprediksi preferensi pengguna berdasarkan interaksi historis menggunakan algoritma SVD (Singular Value Decomposition) dari pustaka Surprise.\n",
        "\n",
        "Setiap pendekatan akan diberikan tahapan modeling yang terpisah untuk memudahkan pemahaman dan evaluasi.\n"
      ],
      "metadata": {
        "id": "lnEnV0T18DGT"
      }
    },
    {
      "cell_type": "markdown",
      "source": [
        "##  Content-Based Filtering"
      ],
      "metadata": {
        "id": "DqsODr83ST2i"
      }
    },
    {
      "cell_type": "code",
      "source": [
        "from sklearn.metrics.pairwise import linear_kernel\n",
        "def get_recommendations(product_name, top_n=5):\n",
        "    try:\n",
        "        idx = df_clean[df_clean['Description'] == product_name].index[0]\n",
        "    except IndexError:\n",
        "        return f\"Produk '{product_name}' tidak ditemukan.\"\n",
        "\n",
        "    cosine_similarities = linear_kernel(tfidf_matrix[idx], tfidf_matrix).flatten()\n",
        "\n",
        "    similar_indices = cosine_similarities.argsort()[::-1]\n",
        "    similar_indices = [i for i in similar_indices if df_clean['Description'].iloc[i] != product_name]\n",
        "\n",
        "    seen = set()\n",
        "    recommendations = []\n",
        "\n",
        "    for i in similar_indices:\n",
        "        desc = df_clean['Description'].iloc[i]\n",
        "        if desc not in seen:\n",
        "            recommendations.append((desc, cosine_similarities[i]))\n",
        "            seen.add(desc)\n",
        "        if len(recommendations) == top_n:\n",
        "            break\n",
        "\n",
        "    return recommendations\n"
      ],
      "metadata": {
        "id": "WBKyP28USRLr"
      },
      "execution_count": 31,
      "outputs": []
    },
    {
      "cell_type": "code",
      "source": [
        "df_clean['Description'].drop_duplicates().sort_values().head(20)"
      ],
      "metadata": {
        "colab": {
          "base_uri": "https://localhost:8080/",
          "height": 711
        },
        "id": "KZm48V0Y_gsO",
        "outputId": "8b301e05-bad0-4965-d1d2-0779a65d926d"
      },
      "execution_count": 26,
      "outputs": [
        {
          "output_type": "execute_result",
          "data": {
            "text/plain": [
              "1057         4 PURPLE FLOCK DINNER CANDLES\n",
              "309257       50'S CHRISTMAS GIFT BAG LARGE\n",
              "276962                   DOLLY GIRL BEAKER\n",
              "334343         I LOVE LONDON MINI BACKPACK\n",
              "379954         I LOVE LONDON MINI RUCKSACK\n",
              "371165             NINE DRAWER OFFICE TIDY\n",
              "17467           OVAL WALL MIRROR DIAMANTE \n",
              "288596             RED SPOT GIFT BAG LARGE\n",
              "40         SET 2 TEA TOWELS I LOVE LONDON \n",
              "115520              SPACEBOY BABY GIFT SET\n",
              "227683            TOADSTOOL BEDSIDE LIGHT \n",
              "325437                   TRELLIS COAT RACK\n",
              "448                 10 COLOUR SPACEBOY PEN\n",
              "4022            12 COLOURED PARTY BALLOONS\n",
              "565              12 DAISY PEGS IN WOOD BOX\n",
              "40164            12 EGG HOUSE PAINTED WOOD\n",
              "471166        12 HANGING EGGS HAND PAINTED\n",
              "7824      12 IVORY ROSE PEG PLACE SETTINGS\n",
              "969        12 MESSAGE CARDS WITH ENVELOPES\n",
              "1096         12 PENCIL SMALL TUBE WOODLAND\n",
              "Name: Description, dtype: object"
            ],
            "text/html": [
              "<div>\n",
              "<style scoped>\n",
              "    .dataframe tbody tr th:only-of-type {\n",
              "        vertical-align: middle;\n",
              "    }\n",
              "\n",
              "    .dataframe tbody tr th {\n",
              "        vertical-align: top;\n",
              "    }\n",
              "\n",
              "    .dataframe thead th {\n",
              "        text-align: right;\n",
              "    }\n",
              "</style>\n",
              "<table border=\"1\" class=\"dataframe\">\n",
              "  <thead>\n",
              "    <tr style=\"text-align: right;\">\n",
              "      <th></th>\n",
              "      <th>Description</th>\n",
              "    </tr>\n",
              "  </thead>\n",
              "  <tbody>\n",
              "    <tr>\n",
              "      <th>1057</th>\n",
              "      <td>4 PURPLE FLOCK DINNER CANDLES</td>\n",
              "    </tr>\n",
              "    <tr>\n",
              "      <th>309257</th>\n",
              "      <td>50'S CHRISTMAS GIFT BAG LARGE</td>\n",
              "    </tr>\n",
              "    <tr>\n",
              "      <th>276962</th>\n",
              "      <td>DOLLY GIRL BEAKER</td>\n",
              "    </tr>\n",
              "    <tr>\n",
              "      <th>334343</th>\n",
              "      <td>I LOVE LONDON MINI BACKPACK</td>\n",
              "    </tr>\n",
              "    <tr>\n",
              "      <th>379954</th>\n",
              "      <td>I LOVE LONDON MINI RUCKSACK</td>\n",
              "    </tr>\n",
              "    <tr>\n",
              "      <th>371165</th>\n",
              "      <td>NINE DRAWER OFFICE TIDY</td>\n",
              "    </tr>\n",
              "    <tr>\n",
              "      <th>17467</th>\n",
              "      <td>OVAL WALL MIRROR DIAMANTE</td>\n",
              "    </tr>\n",
              "    <tr>\n",
              "      <th>288596</th>\n",
              "      <td>RED SPOT GIFT BAG LARGE</td>\n",
              "    </tr>\n",
              "    <tr>\n",
              "      <th>40</th>\n",
              "      <td>SET 2 TEA TOWELS I LOVE LONDON</td>\n",
              "    </tr>\n",
              "    <tr>\n",
              "      <th>115520</th>\n",
              "      <td>SPACEBOY BABY GIFT SET</td>\n",
              "    </tr>\n",
              "    <tr>\n",
              "      <th>227683</th>\n",
              "      <td>TOADSTOOL BEDSIDE LIGHT</td>\n",
              "    </tr>\n",
              "    <tr>\n",
              "      <th>325437</th>\n",
              "      <td>TRELLIS COAT RACK</td>\n",
              "    </tr>\n",
              "    <tr>\n",
              "      <th>448</th>\n",
              "      <td>10 COLOUR SPACEBOY PEN</td>\n",
              "    </tr>\n",
              "    <tr>\n",
              "      <th>4022</th>\n",
              "      <td>12 COLOURED PARTY BALLOONS</td>\n",
              "    </tr>\n",
              "    <tr>\n",
              "      <th>565</th>\n",
              "      <td>12 DAISY PEGS IN WOOD BOX</td>\n",
              "    </tr>\n",
              "    <tr>\n",
              "      <th>40164</th>\n",
              "      <td>12 EGG HOUSE PAINTED WOOD</td>\n",
              "    </tr>\n",
              "    <tr>\n",
              "      <th>471166</th>\n",
              "      <td>12 HANGING EGGS HAND PAINTED</td>\n",
              "    </tr>\n",
              "    <tr>\n",
              "      <th>7824</th>\n",
              "      <td>12 IVORY ROSE PEG PLACE SETTINGS</td>\n",
              "    </tr>\n",
              "    <tr>\n",
              "      <th>969</th>\n",
              "      <td>12 MESSAGE CARDS WITH ENVELOPES</td>\n",
              "    </tr>\n",
              "    <tr>\n",
              "      <th>1096</th>\n",
              "      <td>12 PENCIL SMALL TUBE WOODLAND</td>\n",
              "    </tr>\n",
              "  </tbody>\n",
              "</table>\n",
              "</div><br><label><b>dtype:</b> object</label>"
            ]
          },
          "metadata": {},
          "execution_count": 26
        }
      ]
    },
    {
      "cell_type": "code",
      "source": [
        "sample_product = df_clean['Description'].drop_duplicates().iloc[0]\n",
        "print(sample_product)"
      ],
      "metadata": {
        "colab": {
          "base_uri": "https://localhost:8080/"
        },
        "id": "cKeMsGNV_jVx",
        "outputId": "ea6e6e7d-66f8-4ce0-fb17-3a2929f6f017"
      },
      "execution_count": 32,
      "outputs": [
        {
          "output_type": "stream",
          "name": "stdout",
          "text": [
            "WHITE HANGING HEART T-LIGHT HOLDER\n"
          ]
        }
      ]
    },
    {
      "cell_type": "code",
      "source": [
        "get_recommendations(sample_product)"
      ],
      "metadata": {
        "colab": {
          "base_uri": "https://localhost:8080/"
        },
        "id": "VX3QJp4U_dDa",
        "outputId": "27bc69f0-50d4-4502-8f5b-2e05dfb49422"
      },
      "execution_count": 33,
      "outputs": [
        {
          "output_type": "execute_result",
          "data": {
            "text/plain": [
              "[('RED HANGING HEART T-LIGHT HOLDER', 0.8270236730803583),\n",
              " ('PINK HANGING HEART T-LIGHT HOLDER', 0.810668632404704),\n",
              " ('CREAM HANGING HEART T-LIGHT HOLDER', 0.7668061814073109),\n",
              " ('HEART T-LIGHT HOLDER ', 0.7627817380574107),\n",
              " ('HEART T-LIGHT HOLDER', 0.7627817380574107)]"
            ]
          },
          "metadata": {},
          "execution_count": 33
        }
      ]
    },
    {
      "cell_type": "code",
      "source": [
        "# Contoh hasil top-N recommendation (Content-Based Filtering)\n",
        "# Memastikan sample_product ada di daftar deskripsi unik yang digunakan untuk TF-IDF\n",
        "# Ambil salah satu deskripsi produk dari `product_data_for_indexing`\n",
        "sample_product = df_clean['Description'].drop_duplicates().iloc[0]\n",
        "print(f\"\\nContoh Top-5 Rekomendasi (Content-Based) untuk produk '{sample_product}':\")\n",
        "content_based_recs = get_recommendations(sample_product)\n",
        "print(content_based_recs)\n",
        "\n",
        "## Collaborative Filtering\n",
        "print(\"\\n## Collaborative Filtering\")"
      ],
      "metadata": {
        "colab": {
          "base_uri": "https://localhost:8080/"
        },
        "id": "v4_RP4CyGhIw",
        "outputId": "884a565c-0819-4b9d-c6d1-c97503b592f4"
      },
      "execution_count": 36,
      "outputs": [
        {
          "output_type": "stream",
          "name": "stdout",
          "text": [
            "\n",
            "Contoh Top-5 Rekomendasi (Content-Based) untuk produk 'WHITE HANGING HEART T-LIGHT HOLDER':\n",
            "[('RED HANGING HEART T-LIGHT HOLDER', 0.8270236730803583), ('PINK HANGING HEART T-LIGHT HOLDER', 0.810668632404704), ('CREAM HANGING HEART T-LIGHT HOLDER', 0.7668061814073109), ('HEART T-LIGHT HOLDER ', 0.7627817380574107), ('HEART T-LIGHT HOLDER', 0.7627817380574107)]\n",
            "\n",
            "## Collaborative Filtering\n"
          ]
        }
      ]
    },
    {
      "cell_type": "markdown",
      "source": [
        "**Modelling: Content-Based Filtering**\n",
        "\n",
        "Pada tahap ini, dilakukan pembuatan sistem rekomendasi produk berdasarkan **kemiripan konten deskripsi produk** menggunakan pendekatan Content-Based Filtering dengan TF-IDF.\n",
        "\n",
        "1. Metode\n",
        "- Setiap produk dideskripsikan menggunakan teks (`Description`).\n",
        "- Deskripsi ini diubah menjadi **vektor numerik** menggunakan **TF-IDF Vectorizer**, yang mempertimbangkan pentingnya kata dalam konteks seluruh korpus.\n",
        "- Kemudian, **cosine similarity** dihitung antar seluruh pasangan produk, untuk mengetahui seberapa mirip dua produk berdasarkan deskripsinya.\n",
        "\n",
        "2. Fungsi `get_recommendations()`\n",
        "Fungsi ini:\n",
        "- Mencari indeks produk berdasarkan `product_name` yang diberikan.\n",
        "- Menghitung cosine similarity produk tersebut terhadap seluruh produk lainnya.\n",
        "- Mengurutkan berdasarkan skor similarity tertinggi.\n",
        "- Mengembalikan daftar `top_n` produk **yang mirip namun tidak identik**.\n",
        "\n",
        "3. Contoh Hasil Rekomendasi\n",
        "\n",
        "Sebagai contoh, ketika diberikan input:\n",
        "\n",
        "\n",
        "Sistem memberikan rekomendasi sebagai berikut:\n",
        "\n",
        "| Produk Mirip                                   | Skor Kemiripan |\n",
        "|------------------------------------------------|----------------|\n",
        "| RED HANGING HEART T-LIGHT HOLDER               | 0.827          |\n",
        "| PINK HANGING HEART T-LIGHT HOLDER              | 0.811          |\n",
        "| CREAM HANGING HEART T-LIGHT HOLDER             | 0.767          |\n",
        "| HEART T-LIGHT HOLDER                           | 0.763          |\n",
        "| HEART T-LIGHT HOLDER (dengan spasi ekstra)     | 0.763          |\n",
        "\n",
        "Terlihat bahwa sistem berhasil merekomendasikan produk yang **mirip dalam bentuk dan fungsi**, hanya berbeda warna atau variasi kecil lainnya.\n",
        "\n",
        "4. Kesimpulan\n",
        "Model berbasis konten ini cukup efektif dalam memberikan rekomendasi produk yang serupa berdasarkan deskripsi, meskipun masih sensitif terhadap **variasi kecil penulisan** (misalnya spasi). Untuk meningkatkan hasilnya, bisa dilakukan **normalisasi tambahan pada teks** di tahap preprocessing.\n",
        "\n",
        "\n"
      ],
      "metadata": {
        "id": "ed0k7GA1Tboy"
      }
    },
    {
      "cell_type": "markdown",
      "source": [
        "## Collaborative Filtering"
      ],
      "metadata": {
        "id": "ye-PwYf7SgvP"
      }
    },
    {
      "cell_type": "code",
      "source": [
        "from surprise import SVD, Dataset, Reader\n",
        "from surprise.model_selection import train_test_split as surprise_split\n",
        "from surprise import accuracy\n",
        "\n",
        "# Reader dan dataset untuk Surprise\n",
        "reader = Reader(rating_scale=(1, df_clean['Quantity'].max()))\n",
        "data = Dataset.load_from_df(interaction_df[['CustomerIdx', 'ProductIdx', 'Quantity']], reader)\n",
        "\n",
        "# Split data\n",
        "trainset, testset = surprise_split(data, test_size=0.2, random_state=42)\n",
        "\n",
        "# Melatih model SVD\n",
        "model_svd = SVD()\n",
        "model_svd.fit(trainset)\n",
        "\n",
        "# Prediksi dan evaluasi\n",
        "predictions = model_svd.test(testset)\n",
        "rmse = accuracy.rmse(predictions)\n"
      ],
      "metadata": {
        "colab": {
          "base_uri": "https://localhost:8080/"
        },
        "id": "WfCJvKGmS497",
        "outputId": "181561bd-2fdc-442e-ad5b-34b2a1dbf0a8"
      },
      "execution_count": 34,
      "outputs": [
        {
          "output_type": "stream",
          "name": "stdout",
          "text": [
            "RMSE: 80976.7124\n"
          ]
        }
      ]
    },
    {
      "cell_type": "code",
      "source": [
        "# Melatih model SVD (sudah ada)\n",
        "model_svd = SVD(random_state=42) # Tambahkan random_state untuk konsistensi\n",
        "model_svd.fit(trainset)\n",
        "print(\"Model SVD berhasil dilatih.\")\n",
        "\n",
        "# Prediksi dan evaluasi (RMSE sudah ada)\n",
        "predictions = model_svd.test(testset)\n",
        "rmse = accuracy.rmse(predictions, verbose=False) # verbose=False agar tidak print otomatis\n",
        "print(f\"RMSE: {rmse:.4f}\")\n",
        "\n",
        "# --- Tambahan: Fungsi untuk mendapatkan rekomendasi Top-N dari Collaborative Filtering ---\n",
        "def get_collaborative_recommendations(customer_id_original, n_recommendations=5, model=model_svd, df_data=df_clean, prod_encoder=product_encoder):\n",
        "    \"\"\"\n",
        "    Mendapatkan rekomendasi produk untuk customer tertentu menggunakan model SVD.\n",
        "\n",
        "    Args:\n",
        "        customer_id_original (float): ID pelanggan asli (misal: 17850.0).\n",
        "        n_recommendations (int): Jumlah rekomendasi yang diinginkan.\n",
        "        model: Model Collaborative Filtering yang sudah dilatih (contoh: model_svd).\n",
        "        df_data: DataFrame asli yang sudah bersih (df_clean).\n",
        "        prod_encoder: LabelEncoder untuk produk (product_encoder).\n",
        "\n",
        "    Returns:\n",
        "        pd.DataFrame: DataFrame berisi rekomendasi produk (Description dan prediksi rating).\n",
        "    \"\"\"\n",
        "    try:\n",
        "        # Konversi CustomerID asli ke CustomerIdx\n",
        "        customer_idx = user_encoder.transform([customer_id_original])[0]\n",
        "    except ValueError:\n",
        "        return f\"CustomerID '{customer_id_original}' tidak ditemukan di data.\"\n",
        "\n",
        "    # Dapatkan semua ProductIdx yang sudah pernah berinteraksi dengan pelanggan ini\n",
        "    interacted_product_idx = df_data[df_data['CustomerIdx'] == customer_idx]['ProductIdx'].unique()\n",
        "\n",
        "    # Dapatkan semua ProductIdx unik yang ada di dataset\n",
        "    all_unique_product_idx = prod_encoder.transform(df_data['Description'].drop_duplicates())\n",
        "\n",
        "    # Filter produk yang belum pernah berinteraksi oleh pelanggan ini\n",
        "    products_to_predict = [\n",
        "        p_idx for p_idx in all_unique_product_idx\n",
        "        if p_idx not in interacted_product_idx\n",
        "    ]\n",
        "\n",
        "    # Lakukan prediksi rating untuk setiap produk yang belum diinteraksi\n",
        "    predicted_ratings = []\n",
        "    for p_idx in products_to_predict:\n",
        "        # model.predict(uid, iid, r_ui_true=None, clip=True)\n",
        "        pred = model.predict(customer_idx, p_idx)\n",
        "        predicted_ratings.append((p_idx, pred.est))\n",
        "\n",
        "    # Urutkan berdasarkan prediksi rating tertinggi\n",
        "    predicted_ratings = sorted(predicted_ratings, key=lambda x: x[1], reverse=True)\n",
        "\n",
        "    # Ambil top N rekomendasi\n",
        "    top_n_recs = predicted_ratings[:n_recommendations]\n",
        "\n",
        "    # Konversi ProductIdx kembali ke Description\n",
        "    recommended_products_desc = [prod_encoder.inverse_transform([p_idx])[0] for p_idx, _ in top_n_recs]\n",
        "    recommended_scores = [score for _, score in top_n_recs]\n",
        "\n",
        "    recommendation_df = pd.DataFrame({\n",
        "        'Produk Rekomendasi (Description)': recommended_products_desc,\n",
        "        'Prediksi Interaksi (Quantity)': recommended_scores\n",
        "    })\n",
        "    return recommendation_df"
      ],
      "metadata": {
        "colab": {
          "base_uri": "https://localhost:8080/"
        },
        "id": "cXXmvn6qG1mH",
        "outputId": "45336e60-d551-43a2-ce3e-80c94af030b0"
      },
      "execution_count": 38,
      "outputs": [
        {
          "output_type": "stream",
          "name": "stdout",
          "text": [
            "Model SVD berhasil dilatih.\n",
            "RMSE: 80976.7124\n"
          ]
        }
      ]
    },
    {
      "cell_type": "markdown",
      "source": [
        "**Collaborative Filtering (SVD)**\n",
        "\n",
        "Model ini mempelajari preferensi pengguna berdasarkan interaksi historis mereka terhadap produk. Langkah-langkahnya:\n",
        "\n",
        "- Menggunakan algoritma **SVD** dari pustaka Surprise.\n",
        "- Melatih model dengan data interaksi pengguna dan produk.\n",
        "- Mengukur performa menggunakan metrik **RMSE**.\n",
        "\n",
        "Output:\n",
        "RMSE dari hasil prediksi model terhadap data uji adalah nilai yang merepresentasikan seberapa besar deviasi antara prediksi dan nilai asli.\n"
      ],
      "metadata": {
        "id": "zD8V1ASH8iVX"
      }
    },
    {
      "cell_type": "code",
      "source": [
        "sample_customer_id_original = df_clean['CustomerID'].iloc[0]\n",
        "print(f\"\\nContoh Top-5 Rekomendasi (Collaborative) untuk CustomerID '{sample_customer_id_original}':\")\n",
        "collaborative_recs = get_collaborative_recommendations(sample_customer_id_original, n_recommendations=5)\n",
        "print(collaborative_recs)"
      ],
      "metadata": {
        "colab": {
          "base_uri": "https://localhost:8080/"
        },
        "id": "tbJ_bF8rHE2W",
        "outputId": "e18c8ef7-ef6a-4482-a568-92df22557514"
      },
      "execution_count": 39,
      "outputs": [
        {
          "output_type": "stream",
          "name": "stdout",
          "text": [
            "\n",
            "Contoh Top-5 Rekomendasi (Collaborative) untuk CustomerID '17850.0':\n",
            "    Produk Rekomendasi (Description)  Prediksi Interaksi (Quantity)\n",
            "0      ASSORTED COLOUR BIRD ORNAMENT                          80995\n",
            "1         POPPY'S PLAYHOUSE BEDROOM                           80995\n",
            "2          POPPY'S PLAYHOUSE KITCHEN                          80995\n",
            "3  FELTCRAFT PRINCESS CHARLOTTE DOLL                          80995\n",
            "4            IVORY KNITTED MUG COSY                           80995\n"
          ]
        }
      ]
    },
    {
      "cell_type": "markdown",
      "source": [
        "**Hasil Rekomendasi (Top-N)**\n",
        "\n",
        "Berikut adalah contoh 5 produk yang direkomendasikan untuk pengguna berdasarkan prediksi skor interaksi tertinggi dari model SVD.\n",
        "\n",
        "Rekomendasi seperti ini dapat digunakan untuk mengisi halaman \"Produk untukmu\" pada aplikasi e-commerce berbasis perilaku historis pengguna.\n"
      ],
      "metadata": {
        "id": "2pM5PcG-8sTg"
      }
    },
    {
      "cell_type": "markdown",
      "source": [
        "# EVALUATION"
      ],
      "metadata": {
        "id": "gR_pBZmRYNqf"
      }
    },
    {
      "cell_type": "code",
      "source": [
        "print(\"\\n--- EVALUATION ---\")\n",
        "\n",
        "# Evaluasi RMSE untuk model SVD (sudah ada)\n",
        "print(f\"RMSE untuk model SVD: {rmse:.4f}\")\n",
        "\n",
        "# --- Tambahan: Metrik Precision@K, Recall@K, F1-score@K ---\n",
        "# Fungsi untuk menghitung Precision@K dan Recall@K\n",
        "def get_top_n(predictions, n=5):\n",
        "    \"\"\"Mengembalikan daftar prediksi top-N untuk setiap pengguna.\"\"\"\n",
        "    top_n = {}\n",
        "    for uid, iid, true_r, est, _ in predictions:\n",
        "        if uid not in top_n:\n",
        "            top_n[uid] = []\n",
        "        top_n[uid].append((iid, est))\n",
        "\n",
        "    for uid, user_ratings in top_n.items():\n",
        "        user_ratings.sort(key=lambda x: x[1], reverse=True)\n",
        "        top_n[uid] = user_ratings[:n]\n",
        "    return top_n\n",
        "\n",
        "def precision_recall_f1_at_k(predictions, k=5, threshold=1): # Threshold minimal 1 karena Quantity > 0\n",
        "    \"\"\"\n",
        "    Menghitung Precision@K, Recall@K, dan F1-score@K.\n",
        "    Threshold digunakan untuk menentukan apakah sebuah item dianggap 'relevan'.\n",
        "    \"\"\"\n",
        "    top_n = get_top_n(predictions, n=k)\n",
        "\n",
        "    precisions = dict()\n",
        "    recalls = dict()\n",
        "\n",
        "    for uid, user_preds in top_n.items():\n",
        "        num_hit = 0\n",
        "        num_pred = k\n",
        "        num_true_relevant = 0\n",
        "\n",
        "        # Dapatkan item yang sebenarnya relevan untuk user ini di testset\n",
        "        # Iterate through the original testset to find true relevant items for this user\n",
        "        true_items_for_user = set([item for (u, item, r) in testset if u == uid and r >= threshold])\n",
        "        num_true_relevant = len(true_items_for_user)\n",
        "\n",
        "        for iid, _ in user_preds:\n",
        "            if iid in true_items_for_user:\n",
        "                num_hit += 1\n",
        "\n",
        "        precisions[uid] = num_hit / num_pred if num_pred > 0 else 0\n",
        "        recalls[uid] = num_hit / num_true_relevant if num_true_relevant > 0 else 0\n",
        "\n",
        "    # Ambil rata-rata dari semua pengguna\n",
        "    avg_precision = sum(prec for prec in precisions.values()) / len(precisions) if len(precisions) > 0 else 0\n",
        "    avg_recall = sum(rec for rec in recalls.values()) / len(recalls) if len(recalls) > 0 else 0\n",
        "\n",
        "    # Hitung F1-score\n",
        "    if (avg_precision + avg_recall) > 0:\n",
        "        f1_score = 2 * (avg_precision * avg_recall) / (avg_precision + avg_recall)\n",
        "    else:\n",
        "        f1_score = 0\n",
        "\n",
        "    return avg_precision, avg_recall, f1_score\n",
        "\n",
        "# Hitung metrik Precision, Recall, F1-score\n",
        "precision_at_5, recall_at_5, f1_at_5 = precision_recall_f1_at_k(predictions, k=5, threshold=1)\n",
        "\n",
        "print(f\"Precision@5: {precision_at_5:.4f}\")\n",
        "print(f\"Recall@5: {recall_at_5:.4f}\")\n",
        "print(f\"F1-score@5: {f1_at_5:.4f}\")"
      ],
      "metadata": {
        "colab": {
          "base_uri": "https://localhost:8080/"
        },
        "id": "jO_N-CkLYo-q",
        "outputId": "3b3efd57-1834-4f6c-bed1-16ea4110117b"
      },
      "execution_count": 40,
      "outputs": [
        {
          "output_type": "stream",
          "name": "stdout",
          "text": [
            "\n",
            "--- EVALUATION ---\n",
            "RMSE untuk model SVD: 80976.7124\n",
            "Precision@5: 0.8438\n",
            "Recall@5: 0.6295\n",
            "F1-score@5: 0.7210\n"
          ]
        }
      ]
    },
    {
      "cell_type": "code",
      "source": [
        "# Kesimpulan evaluasi\n",
        "print(\"\\n--- Kesimpulan Evaluasi ---\")\n",
        "print(f\"RMSE sebesar {rmse:.4f} menunjukkan rata-rata kesalahan prediksi model SVD dalam memprediksi Quantity.\")\n",
        "print(f\"Precision@5 sebesar {precision_at_5:.4f} menunjukkan bahwa sekitar {precision_at_5*100:.2f}% dari rekomendasi adalah relevan.\")\n",
        "print(f\"Recall@5 sebesar {recall_at_5:.4f} menunjukkan bahwa model berhasil menangkap sekitar {recall_at_5*100:.2f}% dari total item relevan.\")\n",
        "print(f\"F1-score@5 sebesar {f1_at_5:.4f} menunjukkan keseimbangan antara presisi dan cakupan.\")\n",
        "print(\"Secara keseluruhan, model menunjukkan performa yang cukup baik, namun interpretasi RMSE perlu mempertimbangkan skala Quantity yang besar.\")\n"
      ],
      "metadata": {
        "colab": {
          "base_uri": "https://localhost:8080/"
        },
        "id": "a4Nbfy6IHoL9",
        "outputId": "f1f10e4b-ff7a-4221-9003-3c4f14372402"
      },
      "execution_count": 41,
      "outputs": [
        {
          "output_type": "stream",
          "name": "stdout",
          "text": [
            "\n",
            "--- Kesimpulan Evaluasi ---\n",
            "RMSE sebesar 80976.7124 menunjukkan rata-rata kesalahan prediksi model SVD dalam memprediksi Quantity.\n",
            "Precision@5 sebesar 0.8438 menunjukkan bahwa sekitar 84.38% dari rekomendasi adalah relevan.\n",
            "Recall@5 sebesar 0.6295 menunjukkan bahwa model berhasil menangkap sekitar 62.95% dari total item relevan.\n",
            "F1-score@5 sebesar 0.7210 menunjukkan keseimbangan antara presisi dan cakupan.\n",
            "Secara keseluruhan, model menunjukkan performa yang cukup baik, namun interpretasi RMSE perlu mempertimbangkan skala Quantity yang besar.\n"
          ]
        }
      ]
    }
  ]
}